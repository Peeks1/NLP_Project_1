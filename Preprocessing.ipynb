{
 "cells": [
  {
   "cell_type": "code",
   "execution_count": 1,
   "metadata": {},
   "outputs": [],
   "source": [
    "import nltk\n",
    "import math\n",
    "from itertools import combinations\n",
    "from nltk.corpus import stopwords\n",
    "import string"
   ]
  },
  {
   "cell_type": "code",
   "execution_count": 2,
   "metadata": {},
   "outputs": [],
   "source": [
    "# preprocessing function\n",
    "def preprocessing(filename):\n",
    "    f = open(filename)\n",
    "    lines = f.read().splitlines()\n",
    "    f.close()\n",
    "    res = []\n",
    "    for line in lines:\n",
    "        line = line.split()\n",
    "        new_lst = []\n",
    "        new_lst.append(line[0])\n",
    "        val = \" \".join(line[1:])\n",
    "        val = val.lower()\n",
    "        table = str.maketrans(string.punctuation, \" \"*len(string.punctuation))  # OR {key: None for key in string.punctuation}\n",
    "        val = val.translate(table)  \n",
    "        new_lst.append(val)\n",
    "        res.append(new_lst)\n",
    "    return res"
   ]
  },
  {
   "cell_type": "code",
   "execution_count": 3,
   "metadata": {},
   "outputs": [],
   "source": [
    "# init files\n",
    "basstrain = preprocessing(\"bass_sake_train_test/bass.trn\")\n",
    "basstest = preprocessing(\"bass_sake_train_test/bass.tst\")\n",
    "saketrain = preprocessing(\"bass_sake_train_test/sake.trn\")\n",
    "saketest = preprocessing(\"bass_sake_train_test/sake.tst\")"
   ]
  },
  {
   "cell_type": "code",
   "execution_count": 4,
   "metadata": {},
   "outputs": [
    {
     "name": "stdout",
     "output_type": "stream",
     "text": [
      "['of the society for the sake of their re employment at an', 'sacrifice their souls for the sake of their country    doc id  afe19960518 0073 ', 'however  making controversy for controversy s sake isn t what he s about  he', 'branches of government for the sake of suing    cardinale said    and', 'hurt taking experience for the sake of taking experience    despite that', 'commitment to art for art s sake and a commitment to the', 'to make  sacrifices  for the sake economic stability  she said  she', 'stay together indefinitely for the sake of the kids  in a', 'to killing prostitutes for   the sake of god    the killings have', 'to change them for the sake of pragmatic political gains  what', 'we must play for the sake of the game   kottan said ', 'a major concession for the sake of stability  dropping a demand', 'of history for the future sake of the world  the forces', 'sacrificing your life for the sake or work  or they believe', 'moral minded will take for the sake of survival    sonia murray', 'to cultural issues    for the sake of our country    she writes ', 'murdered three accomplices for the sake of keeping their crimes secret ', 'seriously and effectively for the sake of our national interest   darusman', 'to straighten up for the sake of the kids  shook says', 'of the use  for the sake of appearances  he is usually', 'purchase of grain for the sake of farmers  he served concurrently', 'the project solely for the sake of the damages he could', 'swept the region    for the sake of the japanese standard of', 'pace for 60  for the sake of comparison  griffey also had', 'and not just for the sake of using it  said an', 'have been suspended  for the sake of public confidence in government ', 'of the nation for the sake of the development of the', 'off illegal narcotics for the sake of their unborn child    this', 'in a nutshell  for the sake of expediency  this progressive new', 'exist not just for the sake of newness  as lieutenant pinkerton ', 'inc  research  purely for the sake of research  has little meaning', '  you don t change for the sake of change    philip shearer  general', 'for recorded segments for the sake of flow and to match', 'of that training for the sake of killian  she has forgone', 'this large task for your sake and the sake of your', 'with many dangers  for the sake of the well being of indonesia s', 'show up just for the sake of showing up  obviously  we re', 'the natural world for the sake of convenience and embarking on', 'may be terror for the sake of terror to create chaos', 'they once hoped  for the sake of balancing the budget  they', 'sherer  aqua s wine director  put sake on the wine list about', 'exploit a tragedy for the sake of a cheap laugh     ', 'use their consciences for the sake of the nation  according to', 'next farm bill for the sake of free market principles and a', 'not ruin it for the sake of a set of disputed', 'into a job for the sake of having one  so that', 'his sake and for the sake of his club   lemerre said ', 'television partner would  for the sake of enhancement  pick orlando over', 'with saudi arabia for the sake of security and stability in', 'the 1947 attack   for the sake of propriety   analysts said the', 'or texaco  just for the sake of getting bigger    we will', 'stuck it out for the sake of their adoring public  instead', 'take their swings for the sake of the team    we have', 'want to die for the sake of our god    under an', 'adopt the bill for the sake of what he called  ', 'including theo fleury  for the sake of pulling together cash to', 'prepared to die for the sake of tens of thousands of', 'should be executed   for the sake of pamela carpenter    in contrast ', 'other country s laws for the sake of enforcing its own    zedillo', 'carried out merely for the sake of getting hold of more', '  adamantly opposes authority      for the sake of peace and well being of', 'use all resources for the sake of political ability and social', 'an armed robber for the sake of 1 000 dollars he had', 'is forcing something for the sake of appearing clever    there s a', 'omitted the apostrophe for the sake of a wordplay    wake   serving', 'book rooms just for the sake of booking rooms    what we re', 'eat less fat for the sake of their hearts and their', 'restrain our behavior for the sake of the americans after all', 'be put aside for the sake of peace    he s trying    is', 'maintain their dynamism for the sake of democracy  the leadership of', 'the interior ministry for the sake of national unity  but residents', 'perennial lombardi booster    for his sake and his family  it s a', 'the united states   for the sake of a frenchman who is', 'at great risk for the sake of his employee  reinhart shrugged', 'on march 20 for the sake of protecting russia s economic interests', 'to key west for the sake of my relationship    said peterson ', 'an upstanding life for the sake of his young son and', 'the memory not for the sake of the moment  but because', 'stab at it  for the sake of  you know  filling out', 'better be soon for the sake of cultural heritage  said peter', 'knicks  if only for the sake of dollars and zen  the', 'themselves look dowdy for the sake of realism that it s kinda', 'good relations for its own sake and that of the region s', 'court   would consider that sake of argument pretty safe   so ', 'they had defected for the sake of peace and national reconciliation ', 'as martyrs     for the sake of this nation and preserving', 'other countries  laws for the sake of enforcing its own    he', 'feet wide    just for the sake of the listening world    the', 'for themselves and for the sake of their sport   doc id  nyt19980429 0519 ', 'we believe that for the sake of peace it s worth taking', 'prove its concern for the sake of mankind  the akurat said ', 'an appointed body for the sake of commercial ties with china ', 'to stay together for the sake of the kids  if we', 'turn state s evidence for the sake of his children  aged 11', 'the chinese people  for the sake of rapid development  badly need', 'development there    therefore  for the sake of realizing the common progress', 'public to sacrifice for the sake of the country  however as', 'more money  less corruption for sake of beijing  ap  stressing china s', 'of my box  for the sake of educational boasting  and maybe', 'without any preconditions for the sake of peace and stability in', 'the bbc reported   for the sake of some more talking and', 'we will sacrifice for the sake of saddam hussein    this was', 'not assured    negotiations for the sake of negotiations only help to', 'abuse for years for the sake of keeping a father in', 'fake a truce for the sake of their kids after a', 'to change scenery for the sake of fresh legs strictly a', 'today  but also for the sake of the generations to come ', 'a flight just for the sake of publicity  then we will', 'removing them all for the sake of peace  koizumi appeared to', 'the kashmir dispute for the sake of lasting peace in the', 'into other forms for the sake of a comic moment   any', 'to murder people for the sake of murdering people  that s exactly', 'george w  bush  for heaven s sake   but a mild and', 'beach  but sometimes  for the sake of an international flight or', 'hope it s not  for the sake of the game of basketball   ', 'finance ministry for its own sake    as a nice landing', 'told it is for the sake of the company  now you', 'who calls himself  for the sake of brevity  hhh  hhh and', 'resistant    i write for the sake of the pleasure  for the', 'go on trying for the sake of the japanese people    he', 'pointed out that for the sake of peace and national reconciliation ', 'sense of accountability  for the sake of the game    i guess', 'prophecies  his rap for rap s sake lives up to its own', 'the delay was   for the sake of spin    however  district officials', 'song was written for the sake of my own healing  and', 'something different just for the sake of it    the five year old garden ', 'one jerk tendency  for the sake of the family and for', 'the international community for the sake of the people of kosovo   ', 'built up for de niro s sake as a convenient counterpoint to', 'acquire companies just for the sake of deals  cisco s goal is', 'on december 7 9 for the sake of european unity and effectiveness ', 'and tom o neill  for goodness sake   is publicly denouncing law s', 'a narrative  experimentation for the sake of experimentation  but a majority', 'the cyprus problem  for the sake of the people who live', 'kill each other for the sake of certain political interest   religion', 'launched the war  for the sake of self defence  and it is', 'the difficult move for the sake of wayne and his brother', 'some vast differences for the sake of the soon to arrive baby    fools', 'dazzling  but murk for the sake of murk is not  similarly ', 'drama series  and for god s sake don t give her a bathroom', 'with my husband for the sake of the children    roberts said ', '  it was only for the sake of saying we know it s', 'the composer s work for the sake of popular acceptance  a master', 'a desperate country  for the sake of our electronic toys  guerrillas', 'the west bank   for the sake of palestinians and israelis alike   ', 'he said  and  for the sake of its advertisers  abc may', 'should sit down for the sake of his present well being and', 'including military force  for the sake of international unity  un iraq  has', 'preserving that power for the sake of the people    last month ', 'from both sides for the sake of the peace process which', 'its national interest for the sake of joining the new world', 'toward drug dealers  for the sake of the protection of society ', 'our minds now for the sake of short term popularity    the treasury', 'she also stayed for the sake of her weaker sisters    for', 'an actor s safety for the sake of reality  if a filmmaker', 'when we fought for your sake in the face of the', 'should be released for the sake of the victims  families and', 'a fight simply for the sake of a fight means nothing ', 'put aside partisanship for the sake of our weakened economy  it', 'francisco  bc workingcook sf chron  for variety s sake i try not to feature', 'obvious plot devices for the sake of the big hearted  hopeful outlook', 'celebrate lavishly for the children s sake while secretly mourning their loss ', 'commerce   devaluation for its own sake is not competitiveness   said chan  ', 'take care of  for the sake of their own interest    he', 'word meaning learning for the sake of learning  was launched by', 'don t want meetings for the sake of meetings  no more  no', 'of summer s arrival  but  for sake of convenience in record keeping ', 'thousands of children for the sake of a process  not for', 'this his motto for the sake of honor and well wishing to', ' god is great   for the sake of our dead  but to', 'forsaking the past for the sake of the future    i m one', 'sake of russia  for the sake of making your lives worthy', 'of taxpayers and for the sake of the american consumers  fix', 'back 40 just for the sake of doing it    ferrier said ', 'negotiating the treaty for the sake of someone else   by eagerly', 'united states  these notes make sake come to life  it is', 'his national championship  for goodness  sake  bc ten davis rafter bos  patrick rafter had dolefully', 'the chinese government for the sake of an early treaty   sha', 'had been opened for the sake of development of tourism and', 'was to assume for the sake of the hearing that she', '    and tonight  for the sake of our unity as a', 'only two murders for the sake of expediency  dates for both', 'team s appealing concept for the sake of winning proved virtually fruitless ', 'must be improved for the sake of competitiveness    kinnock told a', 'is usually done for the sake of a journalist s ambition under', 'presidential election was for the sake of the party itself   it', 'reason  not just for the sake of tradition    the spokesman said ', 'people of bangladesh for the sake of mother tongue  sheikh hasina', 'the mideast conflict for the sake of the children geneva  ap ', 'being adversarial for its own sake is not part of his', 'son  mike   for whose sake brazil ostensibly turned down previous', 'on diplomatic principles for the sake of preserving relations   he added ', 'of quinn brothers  for the sake of our children  was a', 'putting bickering aside for the sake of our children    mccain said ', 'girls to die for the sake of hong kong or taiwan', 'of commerce says   for god s sake don t talk about it  we', 'racial body count for the sake of diversity    these schools have', 'raising income taxes for the sake of keeping   no new taxes   pledges made', 'changed his mind for the sake of the common good   i', 'have come here for the sake of peace      we re for', 'them to divorce for the sake of the monarchy once again charles', 'these books just for the sake of it  if i can t', 'watching movement for its own sake should head for the brooklyn', 'the city administration for the sake of the citizens  welfare and', 'opposition leaders for the country s sake ap photo nai101 nairobi  kenya', 'defend its currency for the sake of the domestic economy  a', 'are well regulated for the sake of their reputations   zhang said', 'up this earth for the sake of god   ends  doc id  afe20011227 0582 ', 'be doing something for the sake of the country    chaisith asked ', 'hearing syntax manhandled for the sake of rhyme or meter  if', 'which began producing momokawa premium sake for the american market on', 'stand toward it for the sake of arab solidarity and said', 'with buckingham palace for the sake of her daughters  princesses beatrice', 'is certainly needed  for the sake both of justice and of', 'had to drink for the sake of peace at the border   ', 'a game analyst for the sake of ratings when it has', 'it in stride   for the sake of future generations    ryutaro hashimoto', 'with it just for the sake of fulfilling the ambition of', 'break those pledges for the sake of higher profits  beijing city', 'of the country and the sake of our standing in the', 'the cyprus issue for the sake of being declared a candidate', 'to increase output for the sake of market stability    the official', 'funds  the israelis for the sake of their friend president clinton ', 'day campaign headquarters for the sake of the radio interviews  what', 'than signing just for the sake of appearances    mitrofanov  who heads', '  it was important for the sake of regional stability and international', 'priests or deacons  for the sake of due process  the accused', 'shots and glory for the sake of payton and the team ', 'the very end for the sake of the kingdom of god   ', '  if we could  for the sake of argument  press a button', '    so  for our own sake and the sake of our', 'itself this time for the sake of itself as well as', 'go there just for the sake of the two countries     doc', 'indian forces and for the sake of future generations   as for', 'cutting and changing for the sake of our children    our goals', 'dumb idea  but for the sake of debate  let s thank dole', 'left it untouched for the sake of pharmaceutical companies  profits   he', 'its neighboring countries for the sake of peace  stability  cooperation and', 'accept the offer for the sake of restoring peace     in', 'stopped by for old times  sake   and of course for', 'his own life  for the sake of his idea of freedom', 'cheney contends that for the sake of political correctness  history focusing', 'to be sacrificed for the sake of political ideology   he accused', 'interested in speed for the sake of speed    we don t want', 'china and work for the sake of democracy  people like wang', 'the marathon just for the sake of running and finished the', 'process had succeeded for the sake of both israelis and palestinians   ', 'to show that for the sake of health and longevity and', 'the medical report for the sake of   transparency and fairness    but', 'doesn t schedule meetings for the sake of scheduling meetings    one administration', 'says is purely for the sake of defense  the tension on', 'but let s assume for the sake of argument that the judge s', 'for their sake and the sake of global financial stability    doc', 'as an example  for the sake of the healthy growth of', 'them directly before for the sake of the  kashmiri separatist  movement  ', 'the number just for the sake of that call  but many', 'hardships   she said   for the sake of our children  please lift', 'competitiveness   devaluation for its own sake is not competitiveness   he said', 'jenin not just for the sake of the peace process but', 'false identities  all for the sake of romantically pursuing cecily cardew', 'premise is accepted for the sake of argument  the result nevertheless', 'our financial statements for the sake of transparency  but it should', 'comfort were sacrificed for the sake of ideology  the largest plant', 'of our children  for the sake of our communities     the', 'of the cpc  for the sake of invigorating the chinese nation', 'a standard height sink   for the sake of convenience  they usually eat', 'do my best for the sake of the party and the', 'not be exploited for the sake of scientific gain    the draft', 'sought principally for its own sake or to help zain  this', 'proving that art for art s sake is giving way to art', '  if only for the sake of appearance  if you seem', 'of the house and the sake of the delegation  he thought', 'thrown in just for the sake of making game more difficult ', 'you avoid that for the sake of creating a work that s', 'call a truce for the sake of the party   the main', 'decision is also for the sake of the future european common', 'are endless  but for the sake of sanity  let s just say', 'have to go  for the sake of nature as a whole ', 'of the news for the sake of national security    center spokesman', 'firmly believing that  for the sake of fairness  this event should', 'not so much for the sake of vacationers as to aid', 'arab israeli conflict  not for the sake of arabs at all  but', 'understanding and peace for the sake of the country s future   the', 'of internal conflict for the sake of sustained economic development  the', 'familiar early version for the sake of interest and for the', 'the year before  for the sake of argument  he said  let s', 'stake  some just for the sake of competing  that give anglers', 'a big arena setting  for the sake of statistical posterity  of course ', 'time that for my soul s sake i had to write about', 'debt of uganda for the sake of development of the country s', 'application is largely for the sake of business efficiencies    said gordon', 'want change just for the sake of change itself  but the', 'want to sacrifice for the sake of opening the route to', 'righteously dumps him for the sake of her kids  this doesn t', 'and acid free tissue for the sake of history  at least  that', 'would be done for the sake of improving efficiency  not in', 'staging  if flash for flash s sake is what broadway is requiring', 'ledbetter was exaggerating for the sake of emphasis  his point is', 'the restructuring process  for the sake of the urban poor  many', 'a second agency for the sake of taking on conflicting accounts', 'say this openly for the sake of our country    djiteng said ', 'other countries  laws for the sake of enforcing its own    but', 'had knifed himself   for the sake of our son who is', 'must work together for the sake of the nation s sports development   ', 'fort worth  either for the sake of her career or that', 'can topple this government for sake of nation s future we should   ', 'my world cup for the sake of 8oo francs  130 dollars   ', 'son was opened for the sake of border trade  not for', 'with their treasures for the sake of   picasso  the great series   ', 'but not   just for the sake of it  you can make', '12 years ago for the sake of her husband    there were', 'u s  foreign policy for the sake of the present  bordeaux port', 'be widely promoted for the sake of the people s health  efforts', 'program not only for the sake of implementation  we will not', 'new rules just for the sake of changing something    instead', 'accept the deal for the sake of relations between nato and', 'he exerted  there  for the sake of the palestinian people   arafat', 'shorter  term results for the sake of longer term expansions  oh  and', 'run for reelection  for the sake of taiwan   china staged one', 'islamic principles even for the sake of unity with bin laden ', 'ties this year for the sake of the monarchy and their', 'rahim sajan runs for the sake of science  at the university', 'for their devotion for the sake of peace  national reconciliation and', 'leave their homes for the sake of properties  the volcano came', 'don t run them for the sake of the noise  exactly  but', 'for our sake  his family s sake and his own sake  this', 'our membership just for the sake of getting new members    stern', 'holding their breath for the sake of european membership  prodi s partners', 'reactivating arab solidarity for the sake of the arab nation  arafat s', 'and economic disturbances for the sake of culture and society     doc', 'to develop machines for the sake of thinking    doretti said  founded', 'central america  but for haiti s sake and his own  aristide must', 'prepared to accept for the sake of security  more screening at', 'neglect  not only for the sake of afghanistan  but for our', 'not ignore them for the sake of a promise of joining', 'the city  too  for the sake of all  here are 10', 'among those with particularly notable sake lists  azie  826 folsom st ', 'in place  just for the sake of continuity    bush said  despite', 'the non communist parties for the sake of improving the cpc s policy', 'sacntions on iraq for the sake of the children   at the', 'amendment were removed for the sake of compromise    then we couldn t', 'hand in hand for the sake of national interests   she told', 'sex and flesh for the sake of it  she s expressing her', 'sizable arab city for the sake of a few dozen jewish', 'forsake one s femininity for the sake of one s position      you see', 'rekindle their relationship for the sake of their children    me and', 'rights    i hope for the sake of our country and our', 'yet lives  sacrifice for others  sake continues to exist    and', 'weather could continue for the sake of his team   the weather', 'off new gizmos for the sake of new gizmos    said david', 'not in it for the sake of   fitness    and that they', 'the stoppage  commenting   for the sake of a football match  mass', 'troubled banks fail for the sake of the financial system s health ', 'of brcko unresolved  for the sake of an overall peace that', 'their summer highs  for the sake of the island s 14 000 year round', 'through extensive traumas for the sake of a joke about a', 'of the past for the sake of the future  this millennial', 'should be prosecuted for the sake of  accountability    let us reiterate', 'of your family  for the sake of your children  please surrender', 'and television appearances  for the sake of a satirical election campaign', 'and taking measures for the sake of the least developed countries', 'delhi did it for the sake of equal representation between the', 'with pakistan over kashmir for sake of new delhi  india  ap ', 'a national ban for the sake of uniformity  said dan mullin ', 'sanctions on iraq for the sake of children  the cards are', 'security but also for the sake of their own benefit  zhang', 'been tailored more for the sake of those who would be', 'even her children  for the sake of the affair  in a', 'don t age wine for the sake of aging it    says narsai', 'with their situation for the sake of peace  not only in', 'the special holiday  for the sake of peace and democracy  to', 'to the inhabitants    for the sake of their own interests  they', '  the rams  for goodness sake   are in first place', 'before the election for the sake of the party  cook  on', 'are marking history for the sake of their children  they are', 'of australian families for the sake of ambition and fleeting notoriety   ', 'will do it for the sake of club or country  i', 'when asked if  for the sake of peace  she would agree', 'monday    i m worried for the sake of my party  if you', 'offering his resignation   for the sake of unity in the party  ', 'musical sound for its own sake gradually encroached  and libretto writing', '  i just hope for the sake of ato boldon and maurice', 'bombard two countries for the sake of one single person    he', 'of their freedoms for the sake of money and power  liberals', 'calling for self restraint for the sake of the deep rooted historical ties', 'at least briefly  for the sake of sanity  being in a', 'we passed around fish and sake as communion    said shusaku yamakawa ', 'can do so for the sake of its own security and', 'vote was taken  for the sake of an internal election campaign', 'of asia and for the sake of the world    yet the', 'or maybe even for the sake of the person being criticized ', 'resume their marriage for the sake of their children s happiness  she', 'appointed crown prince  for the sake of stability  and out of', 'process is not for the sake of their own interests  but', 'the rumor mongering  but for the sake of national unity would not', 'solving the problem for the sake of the nation and people ', 'to sue hmos  for heaven s sake   and government regulation of', 'of perpetrators  but for the sake of the nation as a', 'oppose the divorce for the sake of the couples  two children ', '  stretch the truth   for the sake of a sale  sometimes the', 'voluntarily step down for the sake of principle  gingrich professed to', 'those primitive emotions for the sake of softening us up  enraging', 'differences with sudan for the sake of arab unity   we are', 'of the body for the sake of the nation and of', 'best selling popular fiction  for the sake of asia and the global', 'china renames everything for the sake of better transliteration or the', 'x x x for the sake of her three children  sharon', 'our corporate help  for their sake and ours  those millions are', 'to pull together for the sake of cape town s bid to', 'something through just for the sake of saying we pushed it', 'were otherwise  but for the sake of middle east peace and', 'her private life for the sake of her latest movie  a', 'christianity  but penance for the sake of penance is nonsense  a', 'the court just for the sake of taking the court  i m', 'abbot said tuesday    for the sake of the temple s peace  i', 'broaden their horizons for the sake of peace   i believe very', 'him  armstrong said    for the sake of the sport  it s bad', 'share the burden for the sake of national interest is an', 'stalemate  if only for the sake of pressing ahead with worthwhile', 'dropped the suit for the sake of   national interest    probosutedjo defied', 'go with carter for the sake of a youth movement    we', 'that are negotiations for the sake of negotiations only help to', 'who do art for the sake of art  they wouldn t care', 'that company and for the sake of everyone else is for', 'has been ignored for the sake of freedom under president khatami   ', 'has taught him for the sake of pronunciation  some children are', 'an unhappy marriage for the sake of her money  following that', 'only for my own family s sake but also     at this', 'things in neutral for the sake of reaching the masses  then', 'each other but for the sake of business they ll merge    business', 'that s a tradeoff for the sake of reality  in fact  reality', 'the country was for safety s sake while the united states and', 'to all children   for the sake of the nation s long term interests ', 'indonesia  both for its own sake and for its neighbors  needs', 'abandoned beauty for its own sake and took on a wonderful', 'good faith prevail for the sake of all liberians    we are', 'a gleaming intensity  for the sake of acoustical evenness  the entire', 'imagine playing soft for the sake of friendship  even one with', 'the people and for the sake of the nation  the prime', 'moral minded will take for the sake of survival  more  doc id  nyt19970122 0096 ', 'amateurism  to sports for the sake of promoting fitness and health', 'the estate tax for the sake of the rich  what has', 'make an apology for apology s sake at a time when two', 'airport to close for the sake of safety  shenyang taoxian international', 'rewrite history and  for the sake of oversimplification  assume that music', 'do things just for the sake of technology    as the institute', 'be best  for their own sake and for the sake of', 'attacking its neighbors  for the sake of the region  its peoples ', 'and settling disputes for the sake of safeguarding and developing a', 'that balance just for the sake of maturity  otherwise  we re going', 'a prime time audience for the sake of money and 15 fleeting', 'for luxottica  for the sheer sake of being different  armani exploited', 'the internet just for the sake of anonymous relationships  one super', 'of the city for the sake of the city itself  in', 'sydor  maybe  just for the sake of shaking up the status', 'granted  that s why for the sake of peace and order  for', 'as taking risks for the sake of peace  meanwhile  an ira', 'say this  just for the sake of the record  cal ripken ', 'at the criticism   for god s sake it s all our responsibility for', 'lien s desk  saying    for the sake of taipei s traffic  i don t', 'of the players  for the sake of the manager  it s time', 'i feel that  for the sake of myself and my family ', 'not a pusher for the sake of pushing    rhodes said in', 'keep the name for the sake of tradition but lose ol ', 'hiding the truth for the sake of friendships  the movie made', 'and prosperous china for the sake of regional stability  opportunities for', 'fight the allegations for the sake of saving his department  at', 'not just criticizing for the sake of criticizing  after a long', 'will inevitably surface  for the sake of speed  get a cable', 'delay the case for the sake of delay    it is unlikely', 'agreement from 1995  for the sake of an overall peace that', 'first japanese firm to brew sake outside japan  they said konishi ', 'a love life for the sake of career advancement  her bogus', 'pictures  tight editing for the sake of aesthetic focus went out', 'to pay it for the sake of the nation    tarakinikini said ', 'or suitable area for the sake of the future of the', 'change of heart for the sake of the independence day  however ', 'to have been for the sake of the star s ego  ', 'japanese  selfless sacrifice for the sake of many people    kato said ', 'war crimes  both for the sake of peace  a three month cease fire', 'turn around just for the sake of switching    the unbeaten aggies', 'of humanity and for the sake of the future russian belarusian union   ', 'we ll consider it for the sake of the children    despite such', 'taken significant risks for the sake of peace  he wrote  those', 'to remain upbeat for the sake of their children and their', 'the move is for the sake of its own dealers  which', 'bomber who fights for the sake of god  he walks in', 'who practiced deception for deception s sake  hilary swank    boys don t cry    ', 'in july 1995 for the sake of the couple s two children ', 'the state commissions    for the sake of boxing  this is the', 'israel s worst enemies    for the sake of employment  we  the state', 'wiggling bug larvae for the sake of her group  she endured', 'their children  so for the sake of those who did have', 'the chinese nation for the sake of advancing his own personal', 'economic betterment and for the sake of parliamentary democracy  i hope', 'copywriters departed agencies for the sake of independence  freelancers seeking temporary', 'both for the aquarium s own sake and to recruit advocates for', 'themselves  not only for the sake of the bosnians but for', 'insist that thrills for the sake of thrills are not enough ', 'most complicated issue   for the sake of the younger generation and', 'to step down for the sake of national unity  gen  wiranto', 'both agree that for the sake of the environment they must', 'our shareholders just for the sake of making a deal    said', 'female role model for tokenism s sake would flirt with dishonesty  even', 'most controversial policies for the sake of a stable government  those', 'to exist for its own sake as well  the act gave', 'to the inquisitors for the sake of our salvation    the grand', 'and   it s only for the sake of tax cuts for the', 'fighter muhyiaddin sharif for the sake of the zionist enemy    the', 'to be done  for the sake of the people and this', 'with teammates just for the sake of hanging out is necessary ', 'those seeking power for the sake of it  moi said  noting', 'of the drug for the sake of comparison  in a trial', '100th anniversary only for the sake of completeness  in order to', 'into my mind  for the sake of one day  you d get', 'country isn t just for the sake of box office    we expose', 'and constitute argument for the sake of argument    doc id  afe19960926 0018  type  story ', 'begin negotiations now for the sake of her successor  she could', 'ignoring human rights for the sake of increased trade  clinton was', 'citians to join for the sake of increasing the local component ', 'would gather only for the sake of a democratic ukrainian idea   ', 'both countries and for the sake of world peace and development', '3g network simply for the sake of doing so   he said ', '1996   go  depart  for heaven s sake leave this chair   bjp s jaswant', 'of the region for the sake of the hong kong people', 'czech born nhl players for the sake of maintaining a cohesive edge ', 'to step down for the sake of national unity  harmoko  accompanied', 'the company  which also produces sake in japan and  since march ', 'as   a ploy for the sake of military buildup    he estimated', 'come back  so for the sake of the country  we should', 'to be identified   for the sake of unity  we should consult', 'recent military maneuvers for the sake of the on going u n  led proximity', 'heaven s sake  and for the sake of your own family and', 'lesson    don t diversify for the sake of diversification    you get the', 'and it decided for consistency s sake to make the same writeoff', 'rush him back for the sake of a few wins  i', 'his immediate resignation for the sake of future fair elections and', 'leaders to sacrifice for the sake of the nation which was', 'until further notice for the sake of  national unity   the ezzedine', 'was doing it for the sake of the doctor    lagat was', 'own sake  or for the sake of society  there is no', 'to fire myself for the sake of my stock    now  according', 'children s sake  and for the sake of america  keep fighting  keep', 'and sometimes sacrificed for the sake of favored clients  in a', 'is then held    for the sake of the people of ireland', 'the country and for the sake of our standing in the', 'children were used for the sake of science  the parents say', 'termed muslim owned land for the sake of local tourism    tourism at', 'are short changing patients for the sake of higher profits  the quality', '  not played for the sake of a ribboned coat  or', 'than making changes for the sake of change  they are the', 'have held back for the sake of appearing even handed   doc id  nyt19951221 0258 ', 'war  saying that   for the sake of fairness alone these armed', 'across the hall  for the sake of order  o connor chose to', 'to release him for the sake of their unborn child after', 'to step down for the sake of the serbian people    according', 'they have made for the sake of the relationship    catherine cohan ', 'to move forward for the sake of both the palestinians and', 'be invited too for the sake of balance  however  the conference', 'almost of ideas for the sake of ideas    shure said    you', 'to skating s popularity for the sake of marketing  but they are', 'of economic growth for the sake of modest reductions in inflation ', 'of a child for the sake of political expediency    richard lessner ', 'believe in practising for the sake of appearances    illingworth defended 26 year old', 'position of censor for the sake of political expediency    everyone rejects', 'richardson choose  100 000 for the sake of argument  but what kind', 'litigation  but settlement for settlement s sake would be pointless  we could', 'once or twice for the sake of your career   and', 'decision was made for the sake of security reasons and  to', 'voted for him for the sake of continuity    the most important', 'really into aerobics for the sake of cardiovascular fitness  we wouldn t', 'just to refinance for the sake of refinancing  i m not sure', 'nba coaching victories  for heaven s sake   the wilkens image is', 'the computer just for the sake of using it  back in', 'and nasty things for the sake of some good    he said', 'you more ways    for the sake of conserving space  let s simply', 'under any conditions for israel s sake   is a blot on', 'with a divorce   for the sake of the monarchy as an', '  not only for the sake of keeping busy  but to', 'citizen to vote for the sake of sacred  unyielding adherence to', 'honest people working for the sake of humanity to save the', 'from their compound for the sake of discipline and security at', 'a decision just for the sake of balancing the budget   doc', 'urged its support for the sake of the communion s unity  african', 'resume their seats  for the sake of the country   nasim said', 'that are untrue for the sake of sensationalism  which i found', 'to move forward for the sake of peace and unity in', 'development and planning for the sake of the welfare of the', 'seek power for its own sake rather than for larger goals ', 'those who fought for freedom s sake in vietnam   i am proud', 'look at toysrus com for the sake of comparison  toysrus did not', 'nonsense is this  for the sake of the people who came', 'checks and balances for the sake of fighting radical groups  inflation ', 'won t do it for the sake of groups that they think', ' 5 million    manning  for the sake of unfair comparison  never lived', ' to show goodwill for the sake of stabilization of the republic', 'the trio s disappearance    for the sake of her grandchildren and supporters', 'his political opponents for the sake of the economy   at christmas', 'ventura  minnesota s governor  for argument s sake and sheer american dream appeal ', 'willing to die for the sake of stopping that erosion or', 'prepared to compromise  for the sake of a continuity that cannot', 'a generous guffaw for the sake of their friendship  musing    who', 'one week early for the sake of something called sorority sisterhood ', 'run into deficit for the sake of funding essential projects  such', 'he added that for the sake of complete certainty toxicological examinations', 'is pulled back for the sake of the federation     but', 'clarify his remarks for the sake of the aid workers  a', 'committed the crime for the sake of money   he added   now', 'have exploited  but for the sake of press freedom around the', 'one taiwan   but for the sake of survival and development of', 'morning herald who  for the sake of local color  takes him', 'of republican policies  for the sake of self survival    by the end', 'inconveniences of retro tech for the sake of its fragile pleasures  it', 'south asian subcontinent    for heavens sake go and sign the ctbt', 'does not construct for the sake of construction but adds value', 'are valuable for their own sake and  often  for the way', 'buying the shares for the sake of financial sector stability  on', 'its own prestige just for sake of enrollment expansion  zhang added ', 'xinhua chief to stand  for sake of hk  baby sung asia', 'joined the majority for the sake of consensus on the council ', 'have been resolved for the sake of some clause in a', 'can t play just for the sake of playing cricket  you have', 'fact with fiction for the sake of better drama  that is', '  you re there grieving for kim s sake and you have other issues', 'be that way  for the sake of the nation  i will', 'nato air strikes for the sake of safety and security  an', 'die  i die for the sake of god      i will go', 'to tourists  if  for the sake of nationalism  a new name', ' the resistance is for the sake of lebanon and we never', 'limit consumer rights for the sake of a myth that businesses', 'sense  not for their own sake but because what goes around', 'will come up for the sake of hong kong football   he', 'israel gives up for the sake of peace  the surer the', 'the banner of  for your sake jerusalem    you are the leaders', 'might do it for the sake of the movie  not for', 'should stay home   for the sake of public order    franco carraro ', 'be cut simply for the sake of cutting  cutting costs may', 'animals and plants for the sake of enriching the globe s food', 'if it s change for the sake of change  so go ahead ', 'past peacekeeping operations for the sake of salvaging its credibility  in', 'an early d4 for the sake of quiet development  the advance', 'designation to be for the sake of tourism development  with tourism', 'that scrolled past  for comparison s sake i tried to do a', 'use their consciences for the sake of the nation       islamabad', 'is not only for the sake of the interests of other', 'for full implementation for the sake of the parties and the', 'god  you who for our sake desired to become a son', 'use another pitcher for the sake of comparison  knoblauch described what', 'welfare  not just for the sake of the pacific and asian', 'on the pavement for the sake of tourists  and only a', 'a frying pan  for pete s sake   not a fragile microchip', 'accepts that shift for the sake of the president s re election  guessing', 'easing that pressure for the sake of america s military ambitions  i', 'idea    staying together for the sake of the cats  i heard', 'trust and interaction for the sake of peace and security  not', 'through and   for the sake of the locals   how', 'war with pakistan for the sake of striking the group it', 'sailed too close for safety s sake to the floating inferno  it', 'hope the leadership  for the sake of the nation  will examine', 'the staggering economy   for the sake of american workers  let s pass', 'collecting material things for the sake of collecting material things  he s', 'harness racing history  all for the sake of the children  that is', 'only for my own family s sake but also   at this critical', 'country to country for the sake of her life and art ', 'people who die for the sake of religion are in paradise   ', 'not do anything for the sake of a particular individual that', 'too long  merely for the sake of appearances  butler wouldn t allow', 'to give money for the sake of giving  without expecting anything', 'should trickle in  for the sake of social progress    weird like', 'league  where playing for the sake of playing is replaced with', '  not for its own sake but to actually make some', 'don t walk just for the sake of walking  every walk has', 'millions of victims for the sake of preserving rakhmonov s ambitions    khudoberdyev', 'focused on change for the sake of change that other issues', 'privacy and luxuries for the sake of the greater good  in', 'their own ambitions for the sake of the team  that s what', 'blockade the market for the sake of local interests  the president', 'presidents also said  for the sake of regional stability  they would', 'stretching the truth for the sake of a good story  harper', 'him in place for the sake of continuity and that is', 'foundation raising money for the sake of jerusalem  said the oic', 'file cases  just for the sake of statistics  if we aren t', 'to have advance for the sake of television ratings and others', 'debate must continue for the sake of israeli democracy  but it', 'allendoefer said    punishment for punishment sake is currently part of our', 'common arab action for the sake of a just and comprehensive', 'and another  which for the sake of simplification or because of', 'vote against impeachment    for the sake of the nation  i ask', 'male as victim  for pete s sake    is reprehensible or not ', 'of a marriage for the sake of the children  roosevelt chose', ' core group approach  for the sake of viability and efficiency  the', 'his players just for the sake of it  including gascoigne    from', 'the kidnappers  but for the sake of our future strategy i', 'us stop it for the sake of credibility  for the sake', 'do not need dialogue for sake of dialogue  we do not', 'destroy the state for the sake of their ambitions    he said ', 'sheer sound for its own sake was at the top  first', 'resume bilateral relations for the sake of peace in the region ', 'tinkering with bird for money s sake leaves bad taste in mouth', 'won t ignore abuses for the sake of increased trade  slug clinton asia ', 'in place  just for the sake of continuity  and that s when', 'on the poor for the sake of honoring their ideological war', 'debate between retaliation for the sake of demonstrating resolve and a', 'peace  not only for the sake of the palestinian people  but', 'a song just for the sake of having a hit because', 'putting off elections for the sake of national stability  although so', 'union itself and for the sake of the promotion and protection', 'state owned enterprises merely for the sake of gatt negotiations  an official', 'a u s  missile    for the sake of truth and honesty  when', 'down inflation woes for the sake of elections    said thomas chien ', 'process at risk for the sake of the hebron settlers  in', 'of western civilians for the sake of killing    abu hamza told', 'to manage just for the sake of managing  texas is still', 'own sake and for the sake of needing to be seen', 'are stripped away for the sake of raw effect  so many', 'secrets  however  even for the sake of family  or self preservation  we', 'hope  for the open organizers  sake and the punters  that he', 'up their pens for the sake of the public good   doc', 'and cruel sanctions for the sake of causing more harm to', ' most important issue for the sake of stability of the financial', 'issue of guatemala for the sake of defending the  un charter ', 'their children away for the sake of freedom  but that was', 'balance in surplus  for the sake of the japanese people  as', 'go straight away for the sake of my country and the', 'accept the outcome for the sake of national unity  in a', 'to stay together for the sake of the children  was getting', 'to the industry  for the sake of investors  let s hope so ', 'and mortar attacks  for the sake of  national unity   the appeal', 'to be named  for the sake of her 5 year old son s privacy ', 'our own sake  for the sake of our children  for the', 'multimedia format for its own sake is a waste of megabytes ', ' at least the increasingly weird for weird s sake   and last year s winner', 'the pen simply for the sake of having one  or is', 'the summer  more for the sake of the fish than the', 'days but for the kids  sake we have to come out   ', 'of one another for the sake of our children and your', 'the ad asks    for the sake of our children  vote to', 'waste of paper for the sake of packaging  some publishers  to', 'constitutes   a partner   for the sake of cohabitation  esseks contended that', 'achieving a consensus for the sake of ensuring rapid economic development', 'have to hope  for the sake of all the heathers and', 'quite as authentic for nostalgia s sake as the current mustang  it', ' girl 6   just for the sake of spending more  but that', 'into environmental wraps for the sake of the political election cycle   ', 'the highest level for the sake of continuity in the peace', 'the third inning  for the sake of balance on the slick', 'safety was sacrificed for the sake of productivity of the 767', 'to cut benefits for the sake of cutting benefits    he said ', 'losing the money for the sake of becoming that much bigger', 'the two peoples for the sake of peace  stability  cooperation and', 'a long term stability for the sake of the interests and wishes', ' whatever they re called  for safety s sake please don t use them when', 'needs on hold for the sake of your child  but this', 'the property just for the sake of cleanliness  if superfund is', 'not into battle  for the sake of expedience  karolevitz said  only', 'other serb territories for the sake of safety although the muslim', 'of diesel taxis for the sake of the tourism industry and', 'the price here  for the sake of a neat design  dwight', 'attack these people for the sake of attacking    said the rev ', 'moral minded will take for the sake of survival  grade  b  more', 'to join forces for the sake of being bigger  it is', 'sacrifice good taste for the sake of victory    they re all right   ', 'for jonbenet s sake  for the sake of the next child this', 'this illegal act for the sake of thailand   said paitoon  who', 'get people in for the sake of it  we want quality ', 'about using entertainment for the sake of luring people to torah   ', 'i d sacrifice them for the sake of god    farhat says in', 'executed the deals  for the sake of the company   according to', 'compromise my conscience for the sake of party unity   adding that', 'of the time for   the sake of continuity of our government   ', 'group        for the sake of history  if not for', 'assad s position    for the sake of a deal with israel ', '30 percent of the nation s sake is produced in the kobe', 'the work rolls  for the sake of all new yorkers  but', 'to work together for the sake of the nation  it should', 'leaders wednesday that for the sake of south korea s foundering economy ', 'the tibetan plateau  for the sake of persecuted minorities everywhere and', 'that the government  for the sake of national interest  not hound', 'of nuclear tests for the sake of its national security    ', 'managers make changes for the sake of making changes   to', 'meeting is not for the sake of the meeting  it is', 'make a trade for the sake of making a trade    we', 'to move out for the sake of the program was a', 'the paper  and  for the sake of my job security  you', 'isn t good enough for the sake of justice and human decency ', 'to live for her own sake   not just for her', 'environmental protection measures for the sake of profits    they re for the', 'they were voting for the sake of democracy and the good', 'limit that right for the sake of a symbol  and how', 'for your sake and the sake of others like you  i', 'and processing power for the sake of reduced size and attractive', 'and pasted photographs for the sake of nonsense  andy warhol lined', 'voluntarily identify themselves for the sake of their fellow players  sarfu spokesman', '  this is box moving for the sake of box moving    she said   doc', 'iran s regional interests  for the sake of iran s future and us', 'get a name for the sake of the name doesn t make', 'dinner  tax  6 percent  and sake  about 5  are extra   ', 'new delhi  saturday    for the sake of clarity of the relationship', 'in the war for the sake of peace  international efforts should', 'more governmental attention for the sake of technical innovation and an', 'contemporary eminences  apparently for the sake of verisimilitude  henry strikes up', ' u n   charter provisions for the sake of their narrow national interests  ', 'get into mischief for the sake of excitement or just to', 'forgive past wrongs for the sake of political convenience  the romanian', 'the contradictory variety for the sake of coherent simplicity  television can', 'ask some adjustment for the sake of security   doc id  xie19991217 0006  type  story ', 'car tip just for the sake of a good story  with', 'joy of competition for competition s sake   didn t include getting the', 'highest bidder solely for the sake of privatization   it added   this', 'he s doing      perfection for perfection s sake is terrible    young says    but', 'encouraged to work for the sake of the greater good   they', 'world did more for the sake of working people    stalin s monuments', 'who take bribes  for the sake of over 200 000 good officers ', 'of my life for the sake of china s democratization  it appears', '  i believe that  for the sake of understanding  think of two', 'to be corrected for the sake of efficiency  the government has', 'must face reality for the sake of our wildlife s future  and', 'this person lost for the sake of freedom    boris nemtsov  head', 'let s suppose just for argument s sake it turns out that first', 'strict smoking rules for the sake of passengers  health  the airline', 'and defeated prohibition  for heaven s sake   lust for these mannequins ', 'the arab league for the sake of its preservation   arabs should', 'balance  it is for the sake of the farmers  but there', 'forces withdraw immediately for the sake of maintaining turkish arab relations   doc', 'sake  but chiefly for the sake of the civilian population that', 'in the future  for the sake of the new generations    the', 'a little civility for the sake of the children     story can', 'offices were closed for the sake of the staff s safety  it', 'their authority for its own sake and the new breed players who', 'the nation  or for the sake of our daughters  future    ihromi', 'destroying the economy for israel s sake and termed him a  traitor  ', 'they build mosques for the sake of getting votes  not for', 'drive safely for their own sake and for the sake of', 'and counter violence  for the sake of both the palestinian and', 'make changes certainly for the sake of making changes  but as', 'for the presidency for the sake of the nation  the campaign', 'made the withdrawal for the sake of the country s unity while', 'chance of  communique for the sake of communique   as far as', 'just hope for the players  sake on the team now  they', 'aren t playing games for games  sake yet  we re still in it', 'drink    most americans think that sake is something that is only', 'shouldn t stay together for the sake of the children  now some', 'tobacco and firearms  for the sake of the credibility of the', 'more arms dealers for the sake of arms control following the', 'swifter democratic change    for the sake of human rights  we oppose', 'being turned down   for the sake of public order     especially', 'must hear   for the sake of their mental health  or', 'were making sacrifices for the sake of the nation  speculators and', 'peaceful regional environment for the sake of our national development   alatas', 'for market share for the sake of it without being profitable', 'ways to bend for the sake of stability and commerce  that s', 'doing this solely for the sake of the graduates and their', 'must be made for the sake of national stability    there needs', 'also vegetables    besides  for the sake of the green movement  the', 'are different just for the sake of being different  says spa', 'sacrifice of realism for the sake of intellectual musing  so be', 'our responsibility    for the sake of children everywhere    to', 'have the abilities for the sake of self enjoyment  his abilities  ', 'ask the authority  for the sake of jerusalem  to halt negotiations', 'in making changes for the sake of making a change    mahathir', 'question of merging for the sake of merging  we are always']\n"
     ]
    }
   ],
   "source": [
    "# step 1: find amount of each's useage in the corpus\n",
    "# step 2: for each case, collect some of the surrounding words\n",
    "bassfish = []\n",
    "bassmusic = []\n",
    "basstotal = len(basstrain)\n",
    "sakealch = []\n",
    "sakecause = []\n",
    "saketotal = len(saketrain)\n",
    "\n",
    "# sort through bass\n",
    "for line in basstrain:\n",
    "    if '*' in line[0]:\n",
    "        bassfish.append(line[1])\n",
    "    else:\n",
    "        bassmusic.append(line[1])\n",
    "\n",
    "# sort through sake\n",
    "for line in saketrain:\n",
    "    if '*' in line[0]:\n",
    "        sakealch.append(line[1])\n",
    "    else:\n",
    "        sakecause.append(line[1])\n",
    "\n",
    "# don't need the identifiers anymore, so reduce basstrain and saketrain to just\n",
    "# the sentence strings\n",
    "basstrain = [line[1] for line in basstrain]\n",
    "saketrain = [line[1] for line in saketrain]\n",
    "\n",
    "# also have some numerics stored in variables\n",
    "numbassfish = len(bassfish)\n",
    "percentfish = numbassfish/basstotal\n",
    "numbassmusic = len(bassmusic)\n",
    "percentmusic = numbassmusic/basstotal\n",
    "numsakealch = len(sakealch)\n",
    "percentalch = numsakealch/saketotal\n",
    "numsakecause = len(sakecause)\n",
    "percentcause = numsakecause/saketotal\n",
    "\n",
    "print(sakecause)"
   ]
  },
  {
   "cell_type": "code",
   "execution_count": 5,
   "metadata": {},
   "outputs": [],
   "source": [
    "# step 3: collect features\n",
    "# feature collecting functions\n",
    "\n",
    "# create collection of nearby words\n",
    "def nearby_words(dataset, targetword):\n",
    "    frequencydict = {}\n",
    "    for line in dataset:\n",
    "        for word in line.split():\n",
    "            if word != 'targetword':\n",
    "                if word in frequencydict:\n",
    "                    frequencydict[word] += 1\n",
    "                else:\n",
    "                    frequencydict[word] = 1\n",
    "    return frequencydict\n",
    "\n",
    "# create collection of words immediately to the left\n",
    "def left_words(dataset, targetword):  # this could probably be a lot more efficient\n",
    "    frequencydict = {}\n",
    "    for line in dataset:\n",
    "        line_list = line.split()\n",
    "        for i in range(len(line_list)):\n",
    "            if line_list[i] == targetword:\n",
    "                if line_list[i - 1] in frequencydict:\n",
    "                    frequencydict[line_list[i - 1]] += 1\n",
    "                else:\n",
    "                    frequencydict[line_list[i - 1]] = 1\n",
    "    return frequencydict\n",
    "\n",
    "# create collection of words immediately to the right\n",
    "def right_words(dataset, targetword):\n",
    "    frequencydict = {}\n",
    "    for line in dataset:\n",
    "        line_list = line.split()\n",
    "        for i in range(len(line_list)):\n",
    "            if line_list[i] == targetword:\n",
    "                if i == len(line_list) - 1:\n",
    "                    break  # stops indexing errors\n",
    "                if line_list[i + 1] in frequencydict:\n",
    "                    frequencydict[line_list[i + 1]] += 1\n",
    "                else:\n",
    "                    frequencydict[line_list[i + 1]] = 1\n",
    "    return frequencydict"
   ]
  },
  {
   "cell_type": "code",
   "execution_count": 6,
   "metadata": {},
   "outputs": [],
   "source": [
    "# make freq dicts for each meaning and then for both meanings (need the latter\n",
    "# for probabilities later)\n",
    "fishfreq = nearby_words(bassfish, 'bass')\n",
    "musicfreq = nearby_words(bassmusic, 'bass')\n",
    "bassfreq = nearby_words(basstrain, 'bass')\n",
    "alchfreq = nearby_words(sakealch, 'sake')\n",
    "causefreq = nearby_words(sakecause, 'sake')\n",
    "sakefreq = nearby_words(saketrain, 'sake')"
   ]
  },
  {
   "cell_type": "code",
   "execution_count": 7,
   "metadata": {},
   "outputs": [],
   "source": [
    "# make dicts of words to the left and right\n",
    "fishleft = left_words(bassfish, 'bass')\n",
    "musicleft = left_words(bassmusic, 'bass')\n",
    "bassleft = left_words(basstrain, 'bass')\n",
    "alchleft = left_words(sakealch, 'sake')\n",
    "causeleft = left_words(sakecause, 'sake')\n",
    "sakeleft = left_words(saketrain, 'sake')\n",
    "fishright = right_words(bassfish, 'bass')\n",
    "musicright = right_words(bassmusic, 'bass')\n",
    "bassright = right_words(basstrain, 'bass')\n",
    "alchright = right_words(sakealch, 'sake')\n",
    "causeright = right_words(sakecause, 'sake')\n",
    "sakeright = right_words(saketrain, 'sake')"
   ]
  },
  {
   "cell_type": "code",
   "execution_count": 8,
   "metadata": {},
   "outputs": [],
   "source": [
    "# step 4: make log-likelihood decision lists\n",
    "\n",
    "# function to find P(word has certain meaning|feature present)\n",
    "def prob_meaning_given_feature(desiredmeaningfeaturefreq, totalfeaturefreq):\n",
    "    prob_of_features = {}\n",
    "    for word in totalfeaturefreq:\n",
    "        if word in desiredmeaningfeaturefreq:\n",
    "            prob_of_features[word] = desiredmeaningfeaturefreq[word]/totalfeaturefreq[word]\n",
    "        else:\n",
    "            prob_of_features[word] = 0\n",
    "    return prob_of_features\n",
    "\n",
    "# probability smoother, using Laplacian Smoothing\n",
    "def smooth_probabilities(probdict, totaltokens, alpha):\n",
    "    vocab = len(probdict)\n",
    "    smoothedprobs = {}\n",
    "    for prob in probdict:\n",
    "        smoothedprobs[prob] = (probdict[prob] * totaltokens + alpha) / (totaltokens + alpha * vocab)\n",
    "        # this is the formula m + alpha / M + alpha*V, except m = prob(m) * M\n",
    "    return smoothedprobs\n",
    "    \n",
    "# function for finding computing log-likelyhood of many features\n",
    "def log_likelyhood(probdic1, probdic2):\n",
    "    # the two dicts will have the same keys\n",
    "    loglikelyhoods = {}\n",
    "    for word in probdic1:\n",
    "        loglikelyhoods[word] = abs(math.log(probdic1[word] / probdic2[word]))\n",
    "    return loglikelyhoods\n",
    "\n",
    "# function for finding features with the highest log-likelyhoods\n",
    "def highest_likelyhoods(listoflogdicts, numvalues):\n",
    "    # has to be given to the function in the order of nearby words, left, then right\n",
    "    highest_features = ['']\n",
    "    highest_logs = [0]\n",
    "    feature = 0\n",
    "    for dic in listoflogdicts:\n",
    "        feature += 1\n",
    "        if feature == 1:\n",
    "            ftstring = 'nearby words '\n",
    "        elif ftstring == 2:\n",
    "            ftstring = 'left '\n",
    "        else:\n",
    "            ftstring = 'right '\n",
    "        for word in dic:\n",
    "            for n in highest_logs:\n",
    "                if n < dic[word]:\n",
    "                    highest_features.insert(highest_logs.index(n), ftstring + word)\n",
    "                    highest_logs.insert(highest_logs.index(n), dic[word])\n",
    "                    highest_features = highest_features[:numvalues]\n",
    "                    highest_logs = highest_logs[:numvalues]\n",
    "                    break\n",
    "    best_features = []\n",
    "    for i in range(len(highest_logs)):\n",
    "        best_features.append([highest_features[i], highest_logs[i]])\n",
    "    return best_features"
   ]
  },
  {
   "cell_type": "code",
   "execution_count": 9,
   "metadata": {},
   "outputs": [],
   "source": [
    "# find smoothed probabilities of each feature (did alpha = .1 after testing\n",
    "# a few values to see how alphas change the probabilities)\n",
    "alpha = .5\n",
    "# nearby words\n",
    "fishnearbywordsprobs = prob_meaning_given_feature(fishfreq, bassfreq)\n",
    "fishnearbywordsprobs = smooth_probabilities(fishnearbywordsprobs, basstotal, alpha)\n",
    "musicnearbywordsprobs = prob_meaning_given_feature(musicfreq, bassfreq)\n",
    "musicnearbywordsprobs = smooth_probabilities(musicnearbywordsprobs, basstotal, alpha)\n",
    "alchnearbywordsprobs = prob_meaning_given_feature(alchfreq, sakefreq)\n",
    "alchnearbywordsprobs = smooth_probabilities(alchnearbywordsprobs, saketotal, alpha)\n",
    "causenearbywordsprobs = prob_meaning_given_feature(causefreq, sakefreq)\n",
    "causenearbywordsprobs = smooth_probabilities(causenearbywordsprobs, saketotal, alpha)\n",
    "\n",
    "# word to the left\n",
    "fishleftprobs = prob_meaning_given_feature(fishleft, bassleft)\n",
    "fishleftprobs = smooth_probabilities(fishleftprobs, basstotal, alpha)\n",
    "musicleftprobs = prob_meaning_given_feature(musicleft, bassleft)\n",
    "musicleftprobs = smooth_probabilities(musicleftprobs, basstotal, alpha)\n",
    "alchleftprobs = prob_meaning_given_feature(alchleft, sakeleft)\n",
    "alchleftprobs = smooth_probabilities(alchleftprobs, saketotal, alpha)\n",
    "causeleftprobs = prob_meaning_given_feature(causeleft, sakeleft)\n",
    "causeleftprobs = smooth_probabilities(causeleftprobs, saketotal, alpha)\n",
    "\n",
    "# word to the right\n",
    "fishrightprobs = prob_meaning_given_feature(fishright, bassright)\n",
    "fishrightprobs = smooth_probabilities(fishrightprobs, basstotal, alpha)\n",
    "musicrightprobs = prob_meaning_given_feature(musicright, bassright)\n",
    "musicrightprobs = smooth_probabilities(musicrightprobs, basstotal, alpha)\n",
    "alchrightprobs = prob_meaning_given_feature(alchright, sakeright)\n",
    "alchrightprobs = smooth_probabilities(alchrightprobs, saketotal, alpha)\n",
    "causerightprobs = prob_meaning_given_feature(causeright, sakeright)\n",
    "causerightprobs = smooth_probabilities(causerightprobs, saketotal, alpha)"
   ]
  },
  {
   "cell_type": "code",
   "execution_count": 10,
   "metadata": {},
   "outputs": [],
   "source": [
    "# compute log likelyhood of features\n",
    "\n",
    "logoffishnearby = log_likelyhood(fishnearbywordsprobs, musicnearbywordsprobs)\n",
    "logofmusicnearby = log_likelyhood(musicnearbywordsprobs, fishnearbywordsprobs)\n",
    "logofalchnearby = log_likelyhood(alchnearbywordsprobs, causenearbywordsprobs)\n",
    "logofcausenearby = log_likelyhood(causenearbywordsprobs, alchnearbywordsprobs)\n",
    "\n",
    "logoffishleft = log_likelyhood(fishleftprobs, musicleftprobs)\n",
    "logofmusicleft = log_likelyhood(musicleftprobs, fishleftprobs)\n",
    "logofalchleft = log_likelyhood(alchleftprobs, causeleftprobs)\n",
    "logofcauseleft = log_likelyhood(causeleftprobs, alchleftprobs)\n",
    "\n",
    "logoffishright = log_likelyhood(fishrightprobs, musicrightprobs)\n",
    "logofmusicright = log_likelyhood(musicrightprobs, fishrightprobs)\n",
    "logofalchright = log_likelyhood(alchrightprobs, causerightprobs)\n",
    "logofcauseright = log_likelyhood(causerightprobs, alchrightprobs)\n",
    "\n",
    "# note: I realized later that log_likelyhood(a, b) = log_likelyhood(b, a)"
   ]
  },
  {
   "cell_type": "code",
   "execution_count": 11,
   "metadata": {
    "scrolled": true
   },
   "outputs": [
    {
     "name": "stdout",
     "output_type": "stream",
     "text": [
      "[['nearby words stephan', 7.496097345175956], ['nearby words weidner', 7.496097345175956], ['nearby words composer', 7.496097345175956], ['nearby words player', 7.496097345175956], ['nearby words boehse', 7.496097345175956], ['nearby words onkelz', 7.496097345175956], ['nearby words valued', 7.496097345175956], ['nearby words 250', 7.496097345175956], ['nearby words trapped', 7.496097345175956], ['nearby words room', 7.496097345175956]] \n",
      " [['nearby words society', 7.496097345175956], ['nearby words their', 7.496097345175956], ['nearby words employment', 7.496097345175956], ['nearby words an', 7.496097345175956], ['nearby words sacrifice', 7.496097345175956], ['nearby words souls', 7.496097345175956], ['nearby words doc', 7.496097345175956], ['nearby words id', 7.496097345175956], ['nearby words afe19960518', 7.496097345175956], ['nearby words 0073', 7.496097345175956]]\n"
     ]
    }
   ],
   "source": [
    "# find the best features for identifying each type of the word\n",
    "bassbestfeatures = highest_likelyhoods([logoffishnearby, logoffishleft, logoffishright], 10)\n",
    "sakebestfeatures = highest_likelyhoods([logofalchnearby, logofalchleft, logofalchright], 10)\n",
    "print(bassbestfeatures, '\\n', sakebestfeatures)"
   ]
  },
  {
   "cell_type": "code",
   "execution_count": 12,
   "metadata": {},
   "outputs": [
    {
     "name": "stdout",
     "output_type": "stream",
     "text": [
      "0.44 0.56 0.06 0.94\n"
     ]
    }
   ],
   "source": [
    "# find numerics for test data for model comparison\n",
    "# bass\n",
    "percentfishtst = 0\n",
    "percentmusictst = 0\n",
    "totalbasstst = 0\n",
    "for item in basstest:\n",
    "    totalbasstst += 1\n",
    "    if '*' in item[0]:\n",
    "        percentfishtst += 1\n",
    "    else:\n",
    "        percentmusictst += 1\n",
    "\n",
    "percentfishtst = percentfishtst/totalbasstst\n",
    "percentmusictst = percentmusictst/totalbasstst\n",
    "\n",
    "# sake\n",
    "percentalchtst = 0\n",
    "percentcausetst = 0\n",
    "totalsaketst = 0\n",
    "for item in saketest:\n",
    "    totalsaketst += 1\n",
    "    if '*' in item[0]:\n",
    "        percentalchtst += 1\n",
    "    else:\n",
    "        percentcausetst += 1\n",
    "\n",
    "percentalchtst = percentalchtst/totalsaketst\n",
    "percentcausetst = percentcausetst/totalsaketst\n",
    "\n",
    "print(percentfishtst, percentmusictst, percentalchtst, percentcausetst)"
   ]
  },
  {
   "cell_type": "code",
   "execution_count": 14,
   "metadata": {},
   "outputs": [
    {
     "name": "stdout",
     "output_type": "stream",
     "text": [
      "Sense label for bass: music\n",
      "Sense label for sake: cause\n",
      "Baseline accuracy for bass: 0.56\n",
      "Baseline accuracy for sake: 0.94\n"
     ]
    }
   ],
   "source": [
    "# baseline test, label every example as the meaning that shows up \n",
    "# most frequently in the training data\n",
    "if percentfish > percentmusic:\n",
    "    basssenselabel = 'fish'\n",
    "    bassbaseaccuracy = percentfishtst\n",
    "else:\n",
    "    basssenselabel = 'music'\n",
    "    bassbaseaccuracy = percentmusictst\n",
    "\n",
    "if percentalch > percentcause:\n",
    "    sakesenselabel = 'beer'\n",
    "    sakebaseaccuracy = percentalchtst\n",
    "else:\n",
    "    sakesenselabel = 'cause'\n",
    "    sakebaseaccuracy = percentcausetst\n",
    "\n",
    "print(\"Sense label for bass:\", basssenselabel)\n",
    "print(\"Sense label for sake:\", sakesenselabel)\n",
    "print(\"Baseline accuracy for bass:\", bassbaseaccuracy)\n",
    "print(\"Baseline accuracy for sake:\", sakebaseaccuracy)"
   ]
  },
  {
   "cell_type": "code",
   "execution_count": 16,
   "metadata": {},
   "outputs": [
    {
     "name": "stdout",
     "output_type": "stream",
     "text": [
      "Accuracy for bass: 0.56\n",
      "Accuracy for sake: 0.94\n"
     ]
    }
   ],
   "source": [
    "# use the decision tree generated to determine meaning of word\n",
    "fishwords = set(['valued', '250', 'trapped', 'valued'])\n",
    "musicwords = set(['stephan', 'weidner', 'composer', 'player', 'boehse', 'onkelz', 'room'])\n",
    "alchwords = set()  # there were legitimately none, all the features came from cause\n",
    "causewords = set(['society', 'their', 'employment', 'an', 'sacrifice', 'souls', 'doc', 'id', 'afe19960518', '0073'])\n",
    "\n",
    "basscorrectguesses = 0\n",
    "for item in basstest:\n",
    "    wordset = item[1].split()\n",
    "    wordset = set(wordset)\n",
    "    if (wordset & fishwords):\n",
    "        if '*' in item[0]:\n",
    "            basscorrectguesses += 1\n",
    "    else: # don't use music words bc just use sensible label if no fishwords are present\n",
    "        if not '*' in item[0]:\n",
    "            basscorrectguesses += 1\n",
    "bassaccuracy = basscorrectguesses/totalbasstst\n",
    "\n",
    "# since alch has no words, this method is exactly the same as just using the sensible label\n",
    "# as the algorithm being used is 1) check if any words in the sentence are in the less common\n",
    "# meaning's word 2) if so, use the less common meaning. if not, use the sensible label\n",
    "sakeaccuracy = sakebaseaccuracy\n",
    "\n",
    "print(\"Accuracy for bass:\", bassaccuracy)\n",
    "print(\"Accuracy for sake:\", sakeaccuracy)"
   ]
  },
  {
   "cell_type": "code",
   "execution_count": null,
   "metadata": {},
   "outputs": [],
   "source": []
  }
 ],
 "metadata": {
  "kernelspec": {
   "display_name": "Python 3",
   "language": "python",
   "name": "python3"
  },
  "language_info": {
   "codemirror_mode": {
    "name": "ipython",
    "version": 3
   },
   "file_extension": ".py",
   "mimetype": "text/x-python",
   "name": "python",
   "nbconvert_exporter": "python",
   "pygments_lexer": "ipython3",
   "version": "3.7.6"
  }
 },
 "nbformat": 4,
 "nbformat_minor": 4
}
