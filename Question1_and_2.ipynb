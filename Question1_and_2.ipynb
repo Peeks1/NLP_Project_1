{
 "cells": [
  {
   "cell_type": "code",
   "execution_count": 1,
   "metadata": {},
   "outputs": [],
   "source": [
    "# imports\n",
    "import re\n",
    "import nltk\n",
    "from nltk.corpus import wordnet as wn\n",
    "import os.path as p\n",
    "import statistics as stats\n",
    "import string\n",
    "import re\n",
    "import random"
   ]
  },
  {
   "cell_type": "code",
   "execution_count": 2,
   "metadata": {},
   "outputs": [],
   "source": [
    "# neccessary downloads (uncomment if you need any of them, then recomment the code and run the notebook again)\n",
    "# nltk.download('wordnet')\n",
    "# nltk.download('averaged_perceptron_tagger')\n",
    "# nltk.download('tagsets')"
   ]
  },
  {
   "cell_type": "markdown",
   "metadata": {},
   "source": [
    "# Part 1"
   ]
  },
  {
   "cell_type": "markdown",
   "metadata": {},
   "source": [
    "## Part A (distance between speeches)"
   ]
  },
  {
   "cell_type": "code",
   "execution_count": 3,
   "metadata": {},
   "outputs": [
    {
     "name": "stdout",
     "output_type": "stream",
     "text": [
      "Trump speech excerpt (punctuation removed): from a young age my parents impressed on me the values that you work hard for what you want in life that your word is your bond and you do what you say and keep your promise that you treat people with respect they taught and showed me values and morals in their daily life\n",
      "Obama speech excerpt (punctuation removed): and barack and i were raised with so many of the same values that you work hard for what you want in life that your word is your bond and you do what you say youre going to do that you treat people with dignity and respect even if you dont know them and even if you dont agree with them\n"
     ]
    }
   ],
   "source": [
    "# full speech excerpts\n",
    "trump_speech = \"from a young age my parents impressed on me the values that you work hard for what you want in life that your word is your bond and you do what you say and keep your promise that you treat people with respect they taught and showed me values and morals in their daily life\"\n",
    "obama_speech = \"and barack and i were raised with so many of the same values that you work hard for what you want in life that your word is your bond and you do what you say youre going to do that you treat people with dignity and respect even if you dont know them and even if you dont agree with them\"\n",
    "print(\"Trump speech excerpt (punctuation removed):\", trump_speech)\n",
    "print(\"Obama speech excerpt (punctuation removed):\", obama_speech)"
   ]
  },
  {
   "cell_type": "code",
   "execution_count": 4,
   "metadata": {},
   "outputs": [
    {
     "name": "stdout",
     "output_type": "stream",
     "text": [
      "Distance between speech excerpts is 118\n"
     ]
    }
   ],
   "source": [
    "# distance between full speech excerpts\n",
    "print(\"Distance between speech excerpts is\",nltk.edit_distance(trump_speech, obama_speech))"
   ]
  },
  {
   "cell_type": "code",
   "execution_count": 5,
   "metadata": {},
   "outputs": [
    {
     "name": "stdout",
     "output_type": "stream",
     "text": [
      "Trump speech shortened: that you work hard for what you want in life that your word is your bond and you do what you say and keep your promise that you treat people with respect\n",
      "Obama speech shortened: that you work hard for what you want in life that your word is your bond and you do what you say youre going to do that you treat people with dignity and respect\n"
     ]
    }
   ],
   "source": [
    "# shortened speech excerpts\n",
    "trump_speech_shortened = re.search('that you work hard(.+?)respect', trump_speech)\n",
    "trump_speech_shortened = 'that you work hard'+ trump_speech_shortened.group(1) + 'respect'\n",
    "obama_speech_shortened = re.search('that you work hard(.+?)respect', obama_speech)\n",
    "obama_speech_shortened = 'that you work hard'+ obama_speech_shortened.group(1) + 'respect'\n",
    "print(\"Trump speech shortened:\", trump_speech_shortened)\n",
    "print(\"Obama speech shortened:\", obama_speech_shortened)"
   ]
  },
  {
   "cell_type": "code",
   "execution_count": 6,
   "metadata": {},
   "outputs": [
    {
     "name": "stdout",
     "output_type": "stream",
     "text": [
      "Distance between shorted speech excerpts is 29\n"
     ]
    }
   ],
   "source": [
    "# distance between shortened speech excerpts\n",
    "print(\"Distance between shorted speech excerpts is\", nltk.edit_distance(trump_speech_shortened, obama_speech_shortened))"
   ]
  },
  {
   "cell_type": "markdown",
   "metadata": {},
   "source": [
    "## Part B (lemmas in each substring)"
   ]
  },
  {
   "cell_type": "code",
   "execution_count": 7,
   "metadata": {},
   "outputs": [],
   "source": [
    "# init lemmatizer, make function to convert Upenn to Wordnet tags, and make function to find lemmas appearing in both\n",
    "lemmatizer = nltk.WordNetLemmatizer()\n",
    "\n",
    "def upenn_lemmatizer(tagged_samples):\n",
    "    \"\"\"\n",
    "    Replaces upenn pos tags with wordnet pos tag objects and then lemmatizes the words\n",
    "    :tagged_samples: list of pos tuples generated using nltk.pos_tag\n",
    "    :return: list of lemmas\n",
    "    \"\"\"\n",
    "    lemmas = []\n",
    "    upenn_to_wordnet_dic = {  \n",
    "        'J':wn.ADJ,\n",
    "        'V':wn.VERB,\n",
    "        'N':wn.NOUN,\n",
    "        'R':wn.ADV\n",
    "    }\n",
    "    for word in tagged_samples:\n",
    "        word = list(word)  # convert tuple to list so it's mutable\n",
    "        word[1] = word[1][0]  # reduce pos string to one character to match upenn_to_wordnet_dic formatting\n",
    "        if word[1] in upenn_to_wordnet_dic:  # convert from upenn to wordnet\n",
    "            word[1] = upenn_to_wordnet_dic[word[1]]\n",
    "        else:\n",
    "            word[1] = wn.NOUN\n",
    "        lemmas.append(lemmatizer.lemmatize(*word))\n",
    "    return lemmas\n",
    "\n",
    "def token_similarities(speech_a, speech_b):\n",
    "    \"\"\"\n",
    "    Finds all the tokens in common between two documents\n",
    "    :speech_a: First document for comparison (can be any iterable that is able to be converted to a set)\n",
    "    :speech_b: Second document, same rules as speech_a\n",
    "    :returns: a list of common tokens\n",
    "    \"\"\"\n",
    "    tokens_in_common = []\n",
    "    speech_a = set(speech_a)\n",
    "    speech_b = set(speech_b)\n",
    "    if (speech_a & speech_b):\n",
    "        tokens_in_common.extend(speech_a)\n",
    "    return tokens_in_common"
   ]
  },
  {
   "cell_type": "code",
   "execution_count": 8,
   "metadata": {},
   "outputs": [],
   "source": [
    "# make pos list\n",
    "trump_speech_shortened_tokenized = nltk.word_tokenize(trump_speech_shortened)\n",
    "trump_speech_shortened_tagged = nltk.pos_tag(trump_speech_shortened_tokenized)\n",
    "obama_speech_shortened_tokenized = nltk.word_tokenize(obama_speech_shortened)\n",
    "obama_speech_shortened_tagged = nltk.pos_tag(obama_speech_shortened_tokenized)"
   ]
  },
  {
   "cell_type": "code",
   "execution_count": 9,
   "metadata": {},
   "outputs": [
    {
     "name": "stdout",
     "output_type": "stream",
     "text": [
      "Trump's lemmas: ['that', 'you', 'work', 'hard', 'for', 'what', 'you', 'want', 'in', 'life', 'that', 'your', 'word', 'be', 'your', 'bond', 'and', 'you', 'do', 'what', 'you', 'say', 'and', 'keep', 'your', 'promise', 'that', 'you', 'treat', 'people', 'with', 'respect']\n",
      "Obama's lemmas: ['that', 'you', 'work', 'hard', 'for', 'what', 'you', 'want', 'in', 'life', 'that', 'your', 'word', 'be', 'your', 'bond', 'and', 'you', 'do', 'what', 'you', 'say', 'youre', 'go', 'to', 'do', 'that', 'you', 'treat', 'people', 'with', 'dignity', 'and', 'respect']\n"
     ]
    }
   ],
   "source": [
    "# feed pos list into lemmatizer and make a list of these lemmas\n",
    "trump_lemmas = upenn_lemmatizer(trump_speech_shortened_tagged)\n",
    "obama_lemmas = upenn_lemmatizer(obama_speech_shortened_tagged)\n",
    "print(\"Trump's lemmas:\", trump_lemmas)\n",
    "print(\"Obama's lemmas:\", obama_lemmas)"
   ]
  },
  {
   "cell_type": "code",
   "execution_count": 10,
   "metadata": {},
   "outputs": [
    {
     "name": "stdout",
     "output_type": "stream",
     "text": [
      "Lemmas in common in substrings: ['that', 'in', 'be', 'respect', 'hard', 'promise', 'you', 'bond', 'with', 'your', 'work', 'people', 'want', 'word', 'and', 'keep', 'life', 'do', 'what', 'for', 'say', 'treat']\n"
     ]
    }
   ],
   "source": [
    "# find lemmas in common\n",
    "common_lemmas = token_similarities(trump_lemmas, obama_lemmas)\n",
    "print(\"Lemmas in common in substrings:\", common_lemmas)"
   ]
  },
  {
   "cell_type": "markdown",
   "metadata": {},
   "source": [
    "## Part C (words in both excerpts)"
   ]
  },
  {
   "cell_type": "code",
   "execution_count": 11,
   "metadata": {},
   "outputs": [
    {
     "name": "stdout",
     "output_type": "stream",
     "text": [
      "Words in common in excerpts: ['age', 'parents', 'that', 'in', 'young', 'from', 'a', 'respect', 'hard', 'promise', 'you', 'bond', 'with', 'their', 'your', 'on', 'work', 'me', 'daily', 'people', 'they', 'want', 'word', 'values', 'and', 'keep', 'life', 'the', 'do', 'what', 'morals', 'my', 'impressed', 'for', 'say', 'is', 'taught', 'treat', 'showed']\n"
     ]
    }
   ],
   "source": [
    "# find words in common (utilizing token_similarities from Part B)\n",
    "trump_speech_full_tokenized = nltk.word_tokenize(trump_speech)\n",
    "obama_speech_full_tokenized = nltk.word_tokenize(obama_speech)\n",
    "common_words = token_similarities(trump_speech_full_tokenized, obama_speech_full_tokenized)\n",
    "print(\"Words in common in excerpts:\", common_words)"
   ]
  },
  {
   "cell_type": "markdown",
   "metadata": {},
   "source": [
    "## Part D (analysis of results)"
   ]
  },
  {
   "cell_type": "markdown",
   "metadata": {},
   "source": [
    "### Numerics used in Results Discussion"
   ]
  },
  {
   "cell_type": "code",
   "execution_count": 12,
   "metadata": {},
   "outputs": [
    {
     "name": "stdout",
     "output_type": "stream",
     "text": [
      "Character length of Trump speech: 272\n",
      "Character length of Obama speech: 286\n",
      "Character length of Trump speech substring: 153\n",
      "Character length of Obama speech substring: 161\n"
     ]
    }
   ],
   "source": [
    "# character lengths of each excerpt and substring\n",
    "print(\"Character length of Trump speech:\", len(trump_speech))\n",
    "print(\"Character length of Obama speech:\", len(obama_speech))\n",
    "print(\"Character length of Trump speech substring:\", len(trump_speech_shortened))\n",
    "print(\"Character length of Obama speech substring:\", len(obama_speech_shortened))"
   ]
  },
  {
   "cell_type": "code",
   "execution_count": 13,
   "metadata": {},
   "outputs": [
    {
     "name": "stdout",
     "output_type": "stream",
     "text": [
      "Number of lemmas in Trump's substring: 32\n",
      "Number of lemmas in Obama's substring: 34\n",
      "Number of lemmas in common: 22\n"
     ]
    }
   ],
   "source": [
    "# total lemmas in each compared to lemmas in common\n",
    "print(\"Number of lemmas in Trump's substring:\", len(trump_lemmas))\n",
    "print(\"Number of lemmas in Obama's substring:\", len(obama_lemmas))\n",
    "print(\"Number of lemmas in common:\", len(common_lemmas))"
   ]
  },
  {
   "cell_type": "code",
   "execution_count": 14,
   "metadata": {},
   "outputs": [
    {
     "name": "stdout",
     "output_type": "stream",
     "text": [
      "Number of words in Trump's excerpt: 55\n",
      "Number of words in Obama's excerpt: 61\n",
      "Number of words in common: 39\n"
     ]
    }
   ],
   "source": [
    "# words in each excerpt compared to words in common\n",
    "print(\"Number of words in Trump's excerpt:\", len(trump_speech_full_tokenized))\n",
    "print(\"Number of words in Obama's excerpt:\", len(obama_speech_full_tokenized))\n",
    "print(\"Number of words in common:\", len(common_words))"
   ]
  },
  {
   "cell_type": "markdown",
   "metadata": {},
   "source": [
    "# Part 2"
   ]
  },
  {
   "cell_type": "markdown",
   "metadata": {},
   "source": [
    "## Part A (download and preprocess text)"
   ]
  },
  {
   "cell_type": "code",
   "execution_count": 15,
   "metadata": {},
   "outputs": [],
   "source": [
    "# init regex for removing punctuation\n",
    "regex = re.compile('[%s]' % re.escape(string.punctuation))\n",
    "\n",
    "# init function to help find most frequent unigrams and bigrams (returns a list of the highest keys and their values)\n",
    "def highest_dict_values(dic, num_values):\n",
    "    highest_keys = ['']  # default value that is replaced\n",
    "    highest_values = [0]  # ensures the default value is replaced, all words must have a frequency >= 1\n",
    "    for word in dic:  # finding the highest values\n",
    "        for n in highest_values:\n",
    "            if n < dic[word]:\n",
    "                highest_keys.insert(highest_values.index(n), word)\n",
    "                highest_values.insert(highest_values.index(n), dic[word])\n",
    "                highest_values = highest_values[:num_values]\n",
    "                highest_keys = highest_keys[:num_values]\n",
    "                break\n",
    "    highest_val_and_keys = []\n",
    "    for i in range(len(highest_values)):\n",
    "        highest_val_and_keys.append([highest_keys[i], highest_values[i]])\n",
    "    return highest_val_and_keys"
   ]
  },
  {
   "cell_type": "code",
   "execution_count": 25,
   "metadata": {
    "scrolled": true
   },
   "outputs": [],
   "source": [
    "# download text from file\n",
    "document = open('ps1.2-PeeksOkafor.txt', 'r')  # removed boilerplate, chapter names, and any other non-story parts\n",
    "text = document.read()\n",
    "text = regex.sub(' ', text)  # remove punctuation using the regex compiler\n",
    "text = text.lower()\n",
    "document.close()\n"
   ]
  },
  {
   "cell_type": "code",
   "execution_count": 27,
   "metadata": {},
   "outputs": [],
   "source": [
    "# tokenize text\n",
    "tokenized_text = nltk.word_tokenize(text)\n"
   ]
  },
  {
   "cell_type": "markdown",
   "metadata": {},
   "source": [
    "## Part B (Regex and list comprehension)"
   ]
  },
  {
   "cell_type": "markdown",
   "metadata": {},
   "source": [
    "### List Comprehension"
   ]
  },
  {
   "cell_type": "code",
   "execution_count": 21,
   "metadata": {},
   "outputs": [
    {
     "name": "stdout",
     "output_type": "stream",
     "text": [
      "[['beast people', 90], ['said montgomery', 56], ['ape man', 56], ['haired man', 42], ['his face', 40], ['his eyes', 36], ['beast folk', 36], ['leopard man', 36], ['hyena swine', 36], ['away from', 34], ['one another', 32], ['went on', 32], ['his head', 32]]\n"
     ]
    }
   ],
   "source": [
    "# find the most common bigrams\n",
    "bigrams = []\n",
    "num_words = len(tokenized_text)\n",
    "for i in range(num_words - 1):  # minus one to stop from running on the last word\n",
    "    bigrams.append([tokenized_text[i], tokenized_text[i+1]])\n",
    "frequency_dict_bi = {}\n",
    "for bi in bigrams:\n",
    "    bi_string = ' '\n",
    "    bi_string = bi_string.join(bi)\n",
    "    if bi_string in frequency_dict_bi:\n",
    "        frequency_dict_bi[bi_string] += 1\n",
    "    else:\n",
    "        frequency_dict_bi[bi_string] = 1\n",
    "most_common_bigrams = highest_dict_values(frequency_dict_bi, 200)\n",
    "boringbigrams = 'oftheandisinthenittoatmedidnothadbeentherewastheywerewithmy'\n",
    "goodbigrams = []\n",
    "for bi in most_common_bigrams:\n",
    "    bilist = bi[0].split()\n",
    "    if not bilist[0] in boringbigrams and not bilist[1] in boringbigrams:\n",
    "        goodbigrams.append(bi)\n",
    "print(goodbigrams)"
   ]
  },
  {
   "cell_type": "code",
   "execution_count": 19,
   "metadata": {},
   "outputs": [
    {
     "name": "stdout",
     "output_type": "stream",
     "text": [
      "forgot the noise of the beast that had troubled me after\n",
      "said montgomery what are these beasts for merchandise curios does the\n",
      "you agreed to take the beasts i wish i d never\n",
      "island what the devil want beasts for on an island like\n",
      "did he want with the beasts why too had he pretended\n",
      "captain this ship aint for beasts and cannibals and worse than\n",
      "and cannibals and worse than beasts any more overboard you go\n",
      "on all fours like a beast he was clothed in bluish\n",
      "the unmistakable mark of the beast i stood overcome by this\n",
      "earth was he man or beast what did he want with\n",
      "after me was it a beast or was it a man\n",
      "off a lost soul a beast to the rest of their\n",
      "my encounters with the other beast men you he said in\n",
      "a great proportion of these beast people had malformed hands lacking\n",
      "and some more of these beast people lived i might perhaps\n",
      "face of neither man nor beast but a mere shock of\n",
      "so said one of the beasts in the doorway evil are\n",
      "escape none escape said the beast folk glancing furtively at one\n",
      "corner none escape said the beast people looking askance at one\n",
      "perhaps a score of these beast people their misshapen heads half\n",
      "of the village of the beast men that gap was altogether\n",
      "the creatures roared like excited beasts of prey the staghound yelped\n",
      "for me lay in the beast people i turned again and\n",
      "watching them approach the two beast men came running forward to\n",
      "up the beach stared the beast men what am i doing\n",
      "shouting past him to the beast men you who listen do\n",
      "the staring faces of the beast men wondering their deformed hands\n",
      "into the heads of the beast people i saw the green\n",
      "we should import men not beasts in the next we had\n",
      "before me the knot of beast men still wondering stood back\n",
      "is the mark of the beast upon them the mark of\n",
      "them the mark of the beast from which they came pain\n",
      "morality but it seems the beast s habits were not all\n",
      "drift back again the stubborn beast flesh grows day by day\n",
      "is taken from them the beast begins to creep back begins\n",
      "i begin to feel the beast in them and presently they\n",
      "half likes some of those beasts it s his business not\n",
      "of a rational life poor beasts there s something they call\n",
      "nothing but the souls of beasts beasts that perish anger and\n",
      "but the souls of beasts beasts that perish anger and the\n",
      "the way in which the beast folk lived in particular i\n",
      "law especially among the feline beast people became oddly weakened about\n",
      "about the island and the beast people the island which was\n",
      "for me to describe these beast people in detail my eye\n",
      "strange to him as the beast men seemed to me unnaturally\n",
      "attendant the first of the beast folk i had encountered did\n",
      "human looking of all the beast folk and montgomery had trained\n",
      "i became habituated to the beast people that a thousand things\n",
      "every now and then the beast would flash out upon me\n",
      "of the offspring of the beast people that moreau had invented\n",
      "body of the wretched little beast was rent to pieces many\n",
      "see a gathering of the beast people said montgomery it is\n",
      "the grotesque forms of the beast people hurrying towards us i\n",
      "sound of it all the beast people writhed and grovelled in\n",
      "man the last of the beast people to arrive was the\n",
      "firm loud voice and the beast people sat back upon their\n",
      "repeated the kneeling circle of beast people who is he cried\n",
      "in a cluster of the beast people his wide brimmed straw\n",
      "swaying and cracking as the beast people came rushing together one\n",
      "keeping away the excited carnivorous beast people and particularly m ling\n",
      "way out of the crowding beast people and went on alone\n",
      "me to be alone the beast people manifested a quite human\n",
      "and several other of the beast people standing about montgomery and\n",
      "part before they had been beasts their instincts fitly adapted to\n",
      "days my fear of the beast people went the way of\n",
      "his passion for drink the beast people with their instincts and\n",
      "his evident sympathy with the beast people tainted him to me\n",
      "by the noise of three beast men carrying wood into the\n",
      "the beach a little grey beast man appeared ran down to\n",
      "consternation behind him slouched the beast man m ling and round\n",
      "where i had seen the beast man drinking and went wandering\n",
      "went on shouting together two beast men came crouching and peering\n",
      "him never before had a beast man dared to do that\n",
      "muddled way at the shattered beast man beside him it more\n",
      "the help of the seven beast people for he was a\n",
      "the enclosure our company of beast people left us m ling\n",
      "and hustled off to this beastly island ten years here what\n",
      "the decent part of the beast folk well said i that\n",
      "what will happen with the beast folk i don t know\n",
      "those that were made of beasts of prey will make silly\n",
      "a maudlin defence of the beast people and of m ling\n",
      "t give drink to that beast i said rising and facing\n",
      "said rising and facing him beast said he you re the\n",
      "said he you re the beast he takes his liquor like\n",
      "arm you ve made a beast of yourself to the beasts\n",
      "beast of yourself to the beasts you may go he flung\n",
      "truth half akin to these beast folk unfitted for human kindred\n",
      "sank down the crowd of beast people fled in sudden panic\n",
      "back with the hairy grey beast man sprawling across his body\n",
      "dead the rest of the beast people had vanished from the\n",
      "hushed under the dawn its beast people silent and unseen the\n",
      "of the bushes came three beast people with hunched shoulders protruding\n",
      "gestures xx alone with the beast folk i faced these people\n",
      "face towards the three kneeling beast men very much as an\n",
      "instead carried the four dead beast people slantingly along the beach\n",
      "any other two of the beast folk his continued life was\n",
      "turned to my three obedient beast folk again and signalled them\n",
      "and establish myself with the beast people and make myself secure\n",
      "moreau had said the stubborn beast flesh grows day by day\n",
      "of one of my three beast folk advancing out of the\n",
      "by the ravine of the beast people and hiding among the\n",
      "moreau and ruled over the beast people as it was i\n",
      "i became one among the beast people in the island of\n",
      "altogether perhaps twenty of the beast folk squatted staring into the\n",
      "thing said one of the beast folk i tell you it\n",
      "really convinced several of the beast folk of the truth of\n",
      "i tried to induce the beast folk to hunt him but\n",
      "first month or so the beast folk compared with their latter\n",
      "all the milder of the beast people he thought nothing of\n",
      "told me about the stubborn beast flesh they were reverting and\n",
      "place the safest from the beast folk it would be impossible\n",
      "did not decline into such beasts as the reader has seen\n",
      "service now and then some beast creature would watch me and\n",
      "with increasing danger from the beast people i was lying in\n",
      "a question of time the beast people by that time had\n",
      "my head reeled and the beasts came and glared at me\n",
      "and the eyes of the beasts shone out of the darkness\n",
      "the boat three of the beasts came slinking out of the\n",
      "of the brutes were wolf beasts and came forward with quivering\n",
      "reef for fear of the beast people in the evening i\n",
      "of the foulness of the beast people and on the third\n",
      "i had been to the beast people i may have caught\n",
      "met were not also another beast people animals half wrought into\n",
      "beings altogether different from the beast folk yet i shrink from\n",
      "forgot the noise of the beast that had troubled me after\n",
      "said montgomery what are these beasts for merchandise curios does the\n",
      "you agreed to take the beasts i wish i d never\n",
      "island what the devil want beasts for on an island like\n",
      "did he want with the beasts why too had he pretended\n",
      "captain this ship aint for beasts and cannibals and worse than\n",
      "and cannibals and worse than beasts any more overboard you go\n",
      "on all fours like a beast he was clothed in bluish\n",
      "the unmistakable mark of the beast i stood overcome by this\n",
      "earth was he man or beast what did he want with\n",
      "after me was it a beast or was it a man\n",
      "off a lost soul a beast to the rest of their\n",
      "my encounters with the other beast men you he said in\n",
      "a great proportion of these beast people had malformed hands lacking\n",
      "and some more of these beast people lived i might perhaps\n",
      "face of neither man nor beast but a mere shock of\n",
      "so said one of the beasts in the doorway evil are\n",
      "escape none escape said the beast folk glancing furtively at one\n",
      "corner none escape said the beast people looking askance at one\n",
      "perhaps a score of these beast people their misshapen heads half\n",
      "of the village of the beast men that gap was altogether\n",
      "the creatures roared like excited beasts of prey the staghound yelped\n",
      "for me lay in the beast people i turned again and\n",
      "watching them approach the two beast men came running forward to\n",
      "up the beach stared the beast men what am i doing\n",
      "shouting past him to the beast men you who listen do\n",
      "the staring faces of the beast men wondering their deformed hands\n",
      "into the heads of the beast people i saw the green\n",
      "we should import men not beasts in the next we had\n",
      "before me the knot of beast men still wondering stood back\n",
      "is the mark of the beast upon them the mark of\n",
      "them the mark of the beast from which they came pain\n",
      "morality but it seems the beast s habits were not all\n",
      "drift back again the stubborn beast flesh grows day by day\n",
      "is taken from them the beast begins to creep back begins\n",
      "i begin to feel the beast in them and presently they\n",
      "half likes some of those beasts it s his business not\n",
      "of a rational life poor beasts there s something they call\n",
      "nothing but the souls of beasts beasts that perish anger and\n",
      "but the souls of beasts beasts that perish anger and the\n",
      "the way in which the beast folk lived in particular i\n",
      "law especially among the feline beast people became oddly weakened about\n",
      "about the island and the beast people the island which was\n",
      "for me to describe these beast people in detail my eye\n",
      "strange to him as the beast men seemed to me unnaturally\n",
      "attendant the first of the beast folk i had encountered did\n",
      "human looking of all the beast folk and montgomery had trained\n",
      "i became habituated to the beast people that a thousand things\n",
      "every now and then the beast would flash out upon me\n",
      "of the offspring of the beast people that moreau had invented\n",
      "body of the wretched little beast was rent to pieces many\n",
      "see a gathering of the beast people said montgomery it is\n",
      "the grotesque forms of the beast people hurrying towards us i\n",
      "sound of it all the beast people writhed and grovelled in\n",
      "man the last of the beast people to arrive was the\n",
      "firm loud voice and the beast people sat back upon their\n",
      "repeated the kneeling circle of beast people who is he cried\n",
      "in a cluster of the beast people his wide brimmed straw\n",
      "swaying and cracking as the beast people came rushing together one\n",
      "keeping away the excited carnivorous beast people and particularly m ling\n",
      "way out of the crowding beast people and went on alone\n",
      "me to be alone the beast people manifested a quite human\n",
      "and several other of the beast people standing about montgomery and\n",
      "part before they had been beasts their instincts fitly adapted to\n",
      "days my fear of the beast people went the way of\n",
      "his passion for drink the beast people with their instincts and\n",
      "his evident sympathy with the beast people tainted him to me\n",
      "by the noise of three beast men carrying wood into the\n",
      "the beach a little grey beast man appeared ran down to\n",
      "consternation behind him slouched the beast man m ling and round\n",
      "where i had seen the beast man drinking and went wandering\n",
      "went on shouting together two beast men came crouching and peering\n",
      "him never before had a beast man dared to do that\n",
      "muddled way at the shattered beast man beside him it more\n",
      "the help of the seven beast people for he was a\n",
      "the enclosure our company of beast people left us m ling\n",
      "and hustled off to this beastly island ten years here what\n",
      "the decent part of the beast folk well said i that\n",
      "what will happen with the beast folk i don t know\n",
      "those that were made of beasts of prey will make silly\n",
      "a maudlin defence of the beast people and of m ling\n",
      "t give drink to that beast i said rising and facing\n",
      "said rising and facing him beast said he you re the\n",
      "said he you re the beast he takes his liquor like\n",
      "arm you ve made a beast of yourself to the beasts\n",
      "beast of yourself to the beasts you may go he flung\n",
      "truth half akin to these beast folk unfitted for human kindred\n",
      "sank down the crowd of beast people fled in sudden panic\n",
      "back with the hairy grey beast man sprawling across his body\n",
      "dead the rest of the beast people had vanished from the\n",
      "hushed under the dawn its beast people silent and unseen the\n",
      "of the bushes came three beast people with hunched shoulders protruding\n",
      "gestures xx alone with the beast folk i faced these people\n",
      "face towards the three kneeling beast men very much as an\n",
      "instead carried the four dead beast people slantingly along the beach\n",
      "any other two of the beast folk his continued life was\n",
      "turned to my three obedient beast folk again and signalled them\n",
      "and establish myself with the beast people and make myself secure\n",
      "moreau had said the stubborn beast flesh grows day by day\n",
      "of one of my three beast folk advancing out of the\n",
      "by the ravine of the beast people and hiding among the\n",
      "moreau and ruled over the beast people as it was i\n",
      "i became one among the beast people in the island of\n",
      "altogether perhaps twenty of the beast folk squatted staring into the\n",
      "thing said one of the beast folk i tell you it\n",
      "really convinced several of the beast folk of the truth of\n",
      "i tried to induce the beast folk to hunt him but\n",
      "first month or so the beast folk compared with their latter\n",
      "all the milder of the beast people he thought nothing of\n",
      "told me about the stubborn beast flesh they were reverting and\n",
      "place the safest from the beast folk it would be impossible\n",
      "did not decline into such beasts as the reader has seen\n",
      "service now and then some beast creature would watch me and\n",
      "with increasing danger from the beast people i was lying in\n",
      "a question of time the beast people by that time had\n",
      "my head reeled and the beasts came and glared at me\n",
      "and the eyes of the beasts shone out of the darkness\n",
      "the boat three of the beasts came slinking out of the\n",
      "of the brutes were wolf beasts and came forward with quivering\n",
      "reef for fear of the beast people in the evening i\n",
      "of the foulness of the beast people and on the third\n",
      "i had been to the beast people i may have caught\n",
      "met were not also another beast people animals half wrought into\n",
      "beings altogether different from the beast folk yet i shrink from\n"
     ]
    }
   ],
   "source": [
    "# find context for how the main character describes beasts\n",
    "elevengrams = []\n",
    "for i in range(len(tokenized_text)):\n",
    "    if \"beast\" in tokenized_text[i]:\n",
    "        elevengrams.append(tokenized_text[i-5:i+6])\n",
    "for gram in elevengrams:\n",
    "    print(' '.join(gram))"
   ]
  },
  {
   "cell_type": "markdown",
   "metadata": {},
   "source": [
    "### Regex Expressions"
   ]
  },
  {
   "cell_type": "code",
   "execution_count": 20,
   "metadata": {},
   "outputs": [
    {
     "data": {
      "text/plain": [
       "['longitude\\n107 degrees w',\n",
       " 'latitude 5 degrees 3',\n",
       " 'longitude 101 degrees w',\n",
       " 'latitude 5 degrees s',\n",
       " 'longitude 105 degrees e',\n",
       " 'longitude\\n107 degrees w',\n",
       " 'latitude 5 degrees 3',\n",
       " 'longitude 101 degrees w',\n",
       " 'latitude 5 degrees s',\n",
       " 'longitude 105 degrees e']"
      ]
     },
     "execution_count": 20,
     "metadata": {},
     "output_type": "execute_result"
    }
   ],
   "source": [
    "# try to find the location of the island\n",
    "re.findall(\"[latitude|longitude]+\\s+\\d+\\s+degrees\\s+\\w+\", text)"
   ]
  },
  {
   "cell_type": "code",
   "execution_count": 21,
   "metadata": {},
   "outputs": [
    {
     "data": {
      "text/plain": [
       "[('not to', ' go on all fours  ', 'that is the law'),\n",
       " ('not to', ' go on all fours  ', 'that is the law'),\n",
       " ('not to', ' suck up drink  ', 'that is the law'),\n",
       " ('not to', ' eat fish or flesh  ', 'that is the law'),\n",
       " ('not to', ' claw the bark of trees  ', 'that is the law'),\n",
       " ('not to', ' chase other men  ', 'that is the law'),\n",
       " ('not to', ' run on all fours  ', 'that is the law'),\n",
       " ('not to', ' chase other men  ', 'that is the law'),\n",
       " ('not to', ' eat flesh or fish  ', 'that is the law'),\n",
       " ('not to', ' go on all fours  ', 'that is the law'),\n",
       " ('not to', ' suck your drink  ', 'that is the law'),\n",
       " ('not to', ' go on all fours  ', 'that is the law'),\n",
       " ('not to', ' go on all fours  ', 'that is the law'),\n",
       " ('not to', ' suck up drink  ', 'that is the law'),\n",
       " ('not to', ' eat fish or flesh  ', 'that is the law'),\n",
       " ('not to', ' claw the bark of trees  ', 'that is the law'),\n",
       " ('not to', ' chase other men  ', 'that is the law'),\n",
       " ('not to', ' run on all fours  ', 'that is the law'),\n",
       " ('not to', ' chase other men  ', 'that is the law'),\n",
       " ('not to', ' eat flesh or fish  ', 'that is the law'),\n",
       " ('not to', ' go on all fours  ', 'that is the law'),\n",
       " ('not to', ' suck your drink  ', 'that is the law')]"
      ]
     },
     "execution_count": 21,
     "metadata": {},
     "output_type": "execute_result"
    }
   ],
   "source": [
    "# find the laws of the beast folk and their mentions\n",
    "re.findall(\"(not to)(.*)(that is the law)\", text) # makes the results into a list of 3 element tuples,\n",
    "                                                  # with the center element being unique portion of \n",
    "                                                  # the law that is unique"
   ]
  },
  {
   "cell_type": "markdown",
   "metadata": {},
   "source": [
    "## Part C (basic corpus statistics)"
   ]
  },
  {
   "cell_type": "code",
   "execution_count": 28,
   "metadata": {
    "scrolled": true
   },
   "outputs": [
    {
     "name": "stdout",
     "output_type": "stream",
     "text": [
      "N: 44297\n",
      "V: 5266\n"
     ]
    }
   ],
   "source": [
    "# calculating V (found N in part B)\n",
    "num_unique_words = len(set(tokenized_text))\n",
    "print('N:', num_words//2)  # for some reason, the tokenized text variable has\n",
    "print('V:', num_unique_words)"
   ]
  },
  {
   "cell_type": "code",
   "execution_count": 23,
   "metadata": {},
   "outputs": [
    {
     "name": "stdout",
     "output_type": "stream",
     "text": [
      "Mean word length: 4.212066143687567\n",
      "Median word length: 4\n",
      "Standard Deviation of the word lengths: 2.27791644410513\n"
     ]
    }
   ],
   "source": [
    "# calculating mean, median, and standard deviation of list elements\n",
    "token_lengths = []\n",
    "for token in tokenized_text:\n",
    "    token_lengths.append(len(token))\n",
    "mean = sum(token_lengths)/len(token_lengths)\n",
    "print('Mean word length:', mean)\n",
    "median = stats.median(token_lengths)\n",
    "print('Median word length:', median)\n",
    "sd = stats.stdev(token_lengths)\n",
    "print('Standard Deviation of the word lengths:', sd)"
   ]
  },
  {
   "cell_type": "code",
   "execution_count": 24,
   "metadata": {},
   "outputs": [
    {
     "name": "stdout",
     "output_type": "stream",
     "text": [
      "Number of hapaxes: 2612\n",
      "Percentage of the total vocabulary: 0.49601215343714394\n",
      "Five random hapaxes:\n",
      "skull\n",
      "grapple\n",
      "peaked\n",
      "courtyard\n",
      "obtaining\n"
     ]
    }
   ],
   "source": [
    "# calculating hapaxes statistics\n",
    "frequency_dict = {}  # find frequency of all the words (also used to find the\n",
    "                     # most common words later)\n",
    "for token in tokenized_text:\n",
    "    if token in frequency_dict:\n",
    "        frequency_dict[token] += 1\n",
    "    else:\n",
    "        frequency_dict[token] = 0\n",
    "hapaxes = []\n",
    "for word in frequency_dict:\n",
    "    if frequency_dict[word] == 1:\n",
    "        hapaxes.append(word)\n",
    "print(\"Number of hapaxes:\", len(hapaxes))\n",
    "print(\"Percentage of the total vocabulary:\", len(hapaxes) / num_unique_words)\n",
    "print(\"Five random hapaxes:\")\n",
    "random_nums = []\n",
    "for i in range(0, 5):\n",
    "    n = random.randint(0, len(hapaxes))\n",
    "    random_nums.append(n)\n",
    "for r in random_nums:\n",
    "    print(hapaxes[r])"
   ]
  },
  {
   "cell_type": "code",
   "execution_count": 25,
   "metadata": {},
   "outputs": [
    {
     "name": "stdout",
     "output_type": "stream",
     "text": [
      "[['the', 5951], ['and', 3267], ['i', 3157], ['of', 2811], ['a', 2079], ['to', 1845], ['in', 1325], ['was', 1225], ['my', 1123], ['that', 1077], ['he', 1055], ['me', 969], ['it', 965], ['with', 855], ['had', 763], ['his', 733], ['at', 687], ['said', 567], ['as', 517], ['then', 497], ['but', 473], ['you', 471], ['for', 469], ['on', 441], ['not', 411], ['man', 409], ['montgomery', 407], ['him', 403], ['this', 383], ['is', 381]]\n"
     ]
    }
   ],
   "source": [
    "# plot of the frequency of the 5 most used words\n",
    "most_frequent_words = highest_dict_values(frequency_dict, 30)\n",
    "print(most_frequent_words)"
   ]
  },
  {
   "cell_type": "code",
   "execution_count": null,
   "metadata": {},
   "outputs": [],
   "source": []
  }
 ],
 "metadata": {
  "kernelspec": {
   "display_name": "Python 3",
   "language": "python",
   "name": "python3"
  },
  "language_info": {
   "codemirror_mode": {
    "name": "ipython",
    "version": 3
   },
   "file_extension": ".py",
   "mimetype": "text/x-python",
   "name": "python",
   "nbconvert_exporter": "python",
   "pygments_lexer": "ipython3",
   "version": "3.8.3"
  }
 },
 "nbformat": 4,
 "nbformat_minor": 4
}
